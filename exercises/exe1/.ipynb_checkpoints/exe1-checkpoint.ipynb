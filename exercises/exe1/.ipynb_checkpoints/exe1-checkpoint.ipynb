{
 "cells": [
  {
   "cell_type": "code",
   "execution_count": 74,
   "metadata": {},
   "outputs": [],
   "source": [
    "from pyspark.context import SparkContext\n",
    "import numpy as np\n",
    "import matplotlib.pyplot as plt\n",
    "import matplotlib.patches as patches\n",
    "import matplotlib.path as path\n",
    "import pandas as pd\n",
    "import pyspark.sql.functions as F\n",
    "\n",
    "from pyspark.sql import types as t\n",
    "from pyspark.sql.functions import to_date\n",
    "from pyspark.ml.feature import Tokenizer, RegexTokenizer\n",
    "from pyspark.sql.functions import col, udf\n",
    "from pyspark.sql.types import IntegerType\n",
    "from pyspark.ml.feature import StopWordsRemover\n",
    "from pyspark.ml.linalg import Vectors\n",
    "from pyspark.ml.feature import VectorAssembler\n",
    "from pyspark.ml.feature import Normalizer\n",
    "\n",
    "from pyspark.sql.functions import col\n",
    "from sklearn.cluster import KMeans\n",
    "%matplotlib inline"
   ]
  },
  {
   "cell_type": "code",
   "execution_count": 2,
   "metadata": {},
   "outputs": [],
   "source": [
    "def getAggregatedDfCount(df, columnName, columnAlias):\n",
    "    return df.groupBy(columnName).agg(F.size(F.collect_list(columnName))).select(col(columnName).alias(columnAlias), col(\"size(collect_list(\" + columnName + \"))\").alias(\"count\"))\n",
    "\n",
    "def analyzeContinuousValueColumn(df, columnName, columnAlias, recordName):\n",
    "    print(\"Analyze \" +  columnName + \" column\")\n",
    "    aggregated_df = getAggregatedDfCount(df, columnName, columnAlias)\n",
    "    pandas_df = aggregated_df.toPandas()\n",
    "    pandas_df[columnAlias].astype('str')\n",
    "    pandas_df[columnAlias] = pd.to_numeric(pandas_df[columnAlias], errors='coerce').fillna(0).astype(str)\n",
    "\n",
    "    print(\"\\ntop 10 \" + columnAlias + \"s with maximum number of \" + recordName + \"s:\")\n",
    "    aggregated_df.orderBy(\"count\", ascending=False).show(10)\n",
    "\n",
    "    print(\"\\n10 \" + columnAlias + \"s with minimum number of \" + recordName + \"s:\")\n",
    "    aggregated_df.orderBy(\"count\").show(10)\n",
    "\n",
    "    pandas_df.plot.hist(grid=True, bins=100, rwidth=1, color='#607c8e')\n",
    "    plt.title('Products reviews')\n",
    "    plt.xlabel(\"#\" + recordName + \"s\")\n",
    "    plt.ylabel(columnAlias + \"s\")\n",
    "    plt.title(\"Histogram of number of \" + recordName + \"s per \" + columnAlias)\n",
    "    plt.grid(axis='y', alpha=0.75)\n",
    "    \n",
    "def analyzeDescreteValueColumn(df, columnName, columnAlias, recordName):\n",
    "    print(\"Analyze \" + columnName + \" column\")\n",
    "    aggregated_df = getAggregatedDfCount(df, columnName, columnAlias)\n",
    "    pandas_df = aggregated_df.toPandas()\n",
    "    pandas_df.sort_values(by=[columnAlias], inplace=True)\n",
    "    pandas_df[columnAlias].astype('int')\n",
    "    pandas_df[columnAlias] = pd.to_numeric(pandas_df[columnAlias], errors='coerce').fillna(0).astype(int)\n",
    "    display(pandas_df.nlargest(5,columns=columnAlias))\n",
    "    pandas_df.plot(kind='bar',x=columnAlias,y='count')"
   ]
  },
  {
   "cell_type": "code",
   "execution_count": 3,
   "metadata": {},
   "outputs": [
    {
     "name": "stdout",
     "output_type": "stream",
     "text": [
      "------\n",
      "Task1:\n",
      "------\n",
      "Load the data\n",
      "Get columns titles\n",
      "Get number of columns, based on columns titles length\n",
      "Filter out corrupted records, with invalid number of columns\n",
      "Task1 - done\n"
     ]
    }
   ],
   "source": [
    "print(\"------\")\n",
    "print(\"Task1:\")\n",
    "print(\"------\")\n",
    "\n",
    "print(\"Load the data\")\n",
    "reviews = sc.textFile(\"Reviews.csv\")\n",
    "header = reviews.first() #extract header\n",
    "reviews = reviews.filter(lambda row: row != header)   #filter out header\n",
    "\n",
    "print(\"Get columns titles\")\n",
    "columnsTitles = header.split(\",\")\n",
    "\n",
    "print(\"Get number of columns, based on columns titles length\")\n",
    "numOfColumns = len(columnsTitles)\n",
    "\n",
    "print(\"Filter out corrupted records, with invalid number of columns\")\n",
    "reviews = reviews.filter(lambda p: len(p.split(\",\")) == numOfColumns)\n",
    "\n",
    "print(\"Task1 - done\")"
   ]
  },
  {
   "cell_type": "code",
   "execution_count": 4,
   "metadata": {},
   "outputs": [
    {
     "name": "stdout",
     "output_type": "stream",
     "text": [
      "------\n",
      "Task2:\n",
      "------\n",
      "Transform the data set into RDD pair, where the key is the unique id and the value is a Python list which contains the rest of the columns\n",
      "Task2 - done\n"
     ]
    }
   ],
   "source": [
    "print(\"------\")\n",
    "print(\"Task2:\")\n",
    "print(\"------\")\n",
    "print(\"Transform the data set into RDD pair, where the key is the unique id and the value is a Python list which contains the rest of the columns\")\n",
    "transformed_reviews = reviews.map(lambda x:(x.split(\",\")[0],x.split(\",\")[1:])) \n",
    "\n",
    "print(\"Task2 - done\")"
   ]
  },
  {
   "cell_type": "code",
   "execution_count": 5,
   "metadata": {},
   "outputs": [
    {
     "name": "stdout",
     "output_type": "stream",
     "text": [
      "------\n",
      "Task3:\n",
      "------\n",
      "Choose 5 important columns and for each column, execute tasks a-c\n",
      "\n",
      "Task3.a\n",
      "-------\n",
      "Count the distinct values in each column\n",
      "\n",
      "number of products: 35501\n",
      "number of users: 76471\n",
      "number of helpfulness numerators: 75\n",
      "number of helpfulness denominators: 84\n",
      "number of scores: 5\n"
     ]
    }
   ],
   "source": [
    "print(\"------\")\n",
    "print(\"Task3:\")\n",
    "print(\"------\")\n",
    "\n",
    "print(\"Choose 5 important columns and for each column, execute tasks a-c\\n\")\n",
    "\n",
    "# Define dinctionary of 5 selected columns and their matching index in reviews rdd\n",
    "selectedColumnsDict = {'ProductId':1, 'UserId':2, 'HelpfulnessNumerator':4, 'HelpfulnessDenominator':5, 'Score':6}\n",
    "\n",
    "# Define dinctionary of 5 selected columns and their matching aliases, for visualization purposes.\n",
    "selectedColumnsTitleDict = {'ProductId':'product', 'UserId':'user', 'HelpfulnessNumerator':'helpfulness numerator', 'HelpfulnessDenominator':'helpfulness denominator', 'Score':'score'}\n",
    "\n",
    "# Extract keys from selectedColumnsDict\n",
    "selectedColumns = list(selectedColumnsDict)\n",
    "\n",
    "print(\"Task3.a\")\n",
    "print(\"-------\")\n",
    "print(\"Count the distinct values in each column\\n\")\n",
    "columnCountRddList = []\n",
    "\n",
    "for column in selectedColumns:\n",
    "    # Extract rdd pair of current column and the suitable count in reviews rdd. \n",
    "    columnCountRdd = reviews.map(lambda x:(x.split(\",\")[selectedColumnsDict[column]],1)).reduceByKey(lambda x, y: x+y)   \n",
    "    \n",
    "    # Add current rdd pair to list of rdd pairs.\n",
    "    columnCountRddList.append(columnCountRdd)\n",
    "    \n",
    "    print(\"number of \" + selectedColumnsTitleDict[column] + \"s: \" + repr(columnCountRdd.count()))"
   ]
  },
  {
   "cell_type": "code",
   "execution_count": 29,
   "metadata": {},
   "outputs": [
    {
     "name": "stdout",
     "output_type": "stream",
     "text": [
      "\n",
      "Task3.b\n",
      "-------\n",
      "\n",
      "get reviews rdd\n",
      "get reviews data frame\n",
      "+---+----------+--------------+--------------------+--------------------+----------------------+-----+----------+--------------------+--------------------+\n",
      "| Id| ProductId|        UserId|         ProfileName|HelpfulnessNumerator|HelpfulnessDenominator|Score|      Time|             Summary|                Text|\n",
      "+---+----------+--------------+--------------------+--------------------+----------------------+-----+----------+--------------------+--------------------+\n",
      "|  1|B001E4KFG0|A3SGXH7AUHU8GW|          delmartian|                   1|                     1|    5|1303862400|Good Quality Dog ...|I have bought sev...|\n",
      "|  2|B00813GRG4|A1D87F6ZCVE5NK|              dll pa|                   0|                     0|    1|1346976000|   Not as Advertised|\"Product arrived ...|\n",
      "|  4|B000UA0QIQ|A395BORC6FGVXV|                Karl|                   3|                     3|    2|1307923200|      Cough Medicine|If you are lookin...|\n",
      "|  9|B000E7L2R4|A1MZYO9TZK0BBI|            R. James|                   1|                     1|    5|1322006400|          Yay Barley|Right now I'm mos...|\n",
      "| 10|B00171APVA|A21BT40VZCCYT4|       Carol A. Reed|                   0|                     0|    5|1351209600|    Healthy Dog Food|This is a very he...|\n",
      "| 14|B001GVISJM|A18ECVX2RJ7HUE| \"willie \"\"roadie\"\"\"|                   2|                     2|    4|1288915200|   fresh and greasy!|good flavor! thes...|\n",
      "| 15|B001GVISJM|A2MUGFV2TDQ47K|\"Lynrie \"\"Oh HELL...|                   4|                     5|    5|1268352000|Strawberry Twizzl...|The Strawberry Tw...|\n",
      "| 17|B001GVISJM|A3KLWF6WQ5BNYO|      Erica Neathery|                   0|                     0|    2|1348099200|          poor taste|I love eating the...|\n",
      "| 18|B001GVISJM| AFKW14U97Z6QO|               Becca|                   0|                     0|    5|1345075200|            Love it!|I am very satisfi...|\n",
      "| 20|B001GVISJM|A3IV7CL2C13K2U|                Greg|                   0|                     0|    5|1318032000|Home delivered tw...|Candy was deliver...|\n",
      "| 23|B001GVISJM| ARYVQL4N737A1|       Charles Brown|                   0|                     0|    5|1304899200|  Delicious product!|I can remember bu...|\n",
      "| 24|B001GVISJM| AJ613OLZZUG7V|              Mare's|                   0|                     0|    5|1304467200|           Twizzlers|I love this candy...|\n",
      "| 28|B001GVISJM| AAAS38B98HMIK|        Heather Dube|                   0|                     1|    4|1331856000|Great Bargain for...|I was so glad Ama...|\n",
      "| 43|B001EO5QW8|A16XFOYQSJREL7|      Roger Pugliese|                   0|                     0|    5|1287014400|          Food-Great|I have McCann's O...|\n",
      "| 45|B001EO5QW8|A2G7B7FKP2O2PU|          D. Leschke|                   0|                     0|    5|1209686400|Great taste and c...|We really like th...|\n",
      "| 47|B001EO5QW8| AQLL2R1PPR46X|       grumpyrainbow|                   0|                     0|    5|1192752000|                good|Good oatmeal.  I ...|\n",
      "| 50|B001EO5QW8|A276999Y6VRSCQ|                JMay|                   0|                     1|    3|1334016000|          Same stuff|This is the same ...|\n",
      "| 54|B000G6RPMY| AQ9DWWYP2KJCQ|\"Roel Trevino \"\"p...|                   0|                     0|    3|1278028800|      not ass kickin|we're used to spi...|\n",
      "| 57|B004N5KULM|A202WR509428VF|amateur amazon sh...|                   2|                     2|    5|1322438400|       Awesome Deal!|Deal was awesome!...|\n",
      "| 63|B001EO5TPM|A1E09XGZUR78C6|       gary sturrock|                   2|                     2|    1|1215302400|      stale product.|Arrived in 6 days...|\n",
      "+---+----------+--------------+--------------------+--------------------+----------------------+-----+----------+--------------------+--------------------+\n",
      "only showing top 20 rows\n",
      "\n",
      "Analyze the slected columns:\n",
      "\n",
      "Analyze Score column\n"
     ]
    },
    {
     "data": {
      "text/html": [
       "<div>\n",
       "<style scoped>\n",
       "    .dataframe tbody tr th:only-of-type {\n",
       "        vertical-align: middle;\n",
       "    }\n",
       "\n",
       "    .dataframe tbody tr th {\n",
       "        vertical-align: top;\n",
       "    }\n",
       "\n",
       "    .dataframe thead th {\n",
       "        text-align: right;\n",
       "    }\n",
       "</style>\n",
       "<table border=\"1\" class=\"dataframe\">\n",
       "  <thead>\n",
       "    <tr style=\"text-align: right;\">\n",
       "      <th></th>\n",
       "      <th>score</th>\n",
       "      <th>count</th>\n",
       "    </tr>\n",
       "  </thead>\n",
       "  <tbody>\n",
       "    <tr>\n",
       "      <th>1</th>\n",
       "      <td>5</td>\n",
       "      <td>92237</td>\n",
       "    </tr>\n",
       "    <tr>\n",
       "      <th>3</th>\n",
       "      <td>4</td>\n",
       "      <td>14472</td>\n",
       "    </tr>\n",
       "    <tr>\n",
       "      <th>0</th>\n",
       "      <td>3</td>\n",
       "      <td>6300</td>\n",
       "    </tr>\n",
       "    <tr>\n",
       "      <th>4</th>\n",
       "      <td>2</td>\n",
       "      <td>5194</td>\n",
       "    </tr>\n",
       "    <tr>\n",
       "      <th>2</th>\n",
       "      <td>1</td>\n",
       "      <td>11833</td>\n",
       "    </tr>\n",
       "  </tbody>\n",
       "</table>\n",
       "</div>"
      ],
      "text/plain": [
       "   score  count\n",
       "1      5  92237\n",
       "3      4  14472\n",
       "0      3   6300\n",
       "4      2   5194\n",
       "2      1  11833"
      ]
     },
     "metadata": {},
     "output_type": "display_data"
    },
    {
     "data": {
      "image/png": "[encoded data removed]",
      "text/plain": [
       "<Figure size 432x288 with 1 Axes>"
      ]
     },
     "metadata": {},
     "output_type": "display_data"
    }
   ],
   "source": [
    "print(\"\\nTask3.b\")\n",
    "print(\"-------\\n\")\n",
    "print(\"get reviews rdd\")\n",
    "reviews_rdd = reviews.map(lambda line: line.split(\",\"))\n",
    "\n",
    "print(\"get reviews data frame\")\n",
    "reviews_df = reviews_rdd.toDF(columnsTitles)\n",
    "reviews_df.show()\n",
    "\n",
    "print(\"Analyze the slected columns:\\n\")\n",
    "analyzeDescreteValueColumn(reviews_df, 'Score', 'score', 'review')"
   ]
  },
  {
   "cell_type": "code",
   "execution_count": 7,
   "metadata": {},
   "outputs": [
    {
     "name": "stdout",
     "output_type": "stream",
     "text": [
      "Analyze ProductId column\n",
      "\n",
      "top 10 products with maximum number of reviews:\n",
      "+----------+-----+\n",
      "|   product|count|\n",
      "+----------+-----+\n",
      "|B002QWP89S|  234|\n",
      "|B0026RQTGE|  234|\n",
      "|B002QWP8H0|  234|\n",
      "|B002QWHJOU|  234|\n",
      "|B005K4Q37A|  215|\n",
      "|B005K4Q1YA|  215|\n",
      "|B005K4Q4LK|  215|\n",
      "|B0013A0QXC|  171|\n",
      "|B000UBD88A|  171|\n",
      "|B003B3OOPA|  161|\n",
      "+----------+-----+\n",
      "only showing top 10 rows\n",
      "\n",
      "\n",
      "10 products with minimum number of reviews:\n",
      "+----------+-----+\n",
      "|   product|count|\n",
      "+----------+-----+\n",
      "|B000FA157W|    1|\n",
      "|B000LLXBMC|    1|\n",
      "|B000FDKZZW|    1|\n",
      "|B0000EWQIA|    1|\n",
      "|B000FDMLXG|    1|\n",
      "|B000ILMQLM|    1|\n",
      "|B000JSO2AM|    1|\n",
      "|B000E5C59U|    1|\n",
      "|B000KHVHG4|    1|\n",
      "|B000B6KQW0|    1|\n",
      "+----------+-----+\n",
      "only showing top 10 rows\n",
      "\n"
     ]
    },
    {
     "data": {
      "image/png": "[encoded data removed]",
      "text/plain": [
       "<Figure size 432x288 with 1 Axes>"
      ]
     },
     "metadata": {},
     "output_type": "display_data"
    }
   ],
   "source": [
    "analyzeContinuousValueColumn(reviews_df, 'ProductId', 'product', 'review')"
   ]
  },
  {
   "cell_type": "code",
   "execution_count": 8,
   "metadata": {},
   "outputs": [
    {
     "name": "stdout",
     "output_type": "stream",
     "text": [
      "Analyze UserId column\n",
      "\n",
      "top 10 users with maximum number of reviews:\n",
      "+--------------+-----+\n",
      "|          user|count|\n",
      "+--------------+-----+\n",
      "| AZV26LP92E6WU|  139|\n",
      "|A281NPSIMI1C2R|   72|\n",
      "|A2A8KWCE8RKB9T|   66|\n",
      "|A2GEZJHBV92EVR|   61|\n",
      "|A31N6KB160O508|   46|\n",
      "|A35TIC6B8MVKWG|   44|\n",
      "|A1KOCGNDLF2VUR|   42|\n",
      "|A3DOPYDOS49I3T|   38|\n",
      "| ALL9XFM0Q1N4E|   38|\n",
      "|A27NTHPTRXB766|   37|\n",
      "+--------------+-----+\n",
      "only showing top 10 rows\n",
      "\n",
      "\n",
      "10 users with minimum number of reviews:\n",
      "+--------------+-----+\n",
      "|          user|count|\n",
      "+--------------+-----+\n",
      "|A12WK0RR80JDE7|    1|\n",
      "|A162K630Q7ZRMQ|    1|\n",
      "|A12XRW9KT75UVV|    1|\n",
      "|A109X9S6MDGV8T|    1|\n",
      "|A1319GU8GIMM8G|    1|\n",
      "|A11BJTQAC4DE50|    1|\n",
      "|A13A9ZP6W2I7RP|    1|\n",
      "|A11JDIFMAAVHC3|    1|\n",
      "|A14UW48HHODXEQ|    1|\n",
      "|A15XB0H4648T71|    1|\n",
      "+--------------+-----+\n",
      "only showing top 10 rows\n",
      "\n"
     ]
    },
    {
     "data": {
      "image/png": "[encoded data removed]",
      "text/plain": [
       "<Figure size 432x288 with 1 Axes>"
      ]
     },
     "metadata": {},
     "output_type": "display_data"
    }
   ],
   "source": [
    "analyzeContinuousValueColumn(reviews_df, 'UserId', 'user', 'review')"
   ]
  },
  {
   "cell_type": "code",
   "execution_count": 9,
   "metadata": {},
   "outputs": [
    {
     "name": "stdout",
     "output_type": "stream",
     "text": [
      "Analyze HelpfulnessNumerator column\n",
      "\n",
      "top 10 helpfulnessNumerators with maximum number of reviews:\n",
      "+--------------------+-----+\n",
      "|helpfulnessNumerator|count|\n",
      "+--------------------+-----+\n",
      "|                   0|76690|\n",
      "|                   1|26450|\n",
      "|                   2|11166|\n",
      "|                   3| 5638|\n",
      "|                   4| 3088|\n",
      "|                   5| 1883|\n",
      "|                   6| 1267|\n",
      "|                   7|  843|\n",
      "|                   8|  575|\n",
      "|                   9|  470|\n",
      "+--------------------+-----+\n",
      "only showing top 10 rows\n",
      "\n",
      "\n",
      "10 helpfulnessNumerators with minimum number of reviews:\n",
      "+--------------------+-----+\n",
      "|helpfulnessNumerator|count|\n",
      "+--------------------+-----+\n",
      "|                  79|    1|\n",
      "|                  55|    1|\n",
      "|                  58|    1|\n",
      "|                  77|    1|\n",
      "|                 274|    1|\n",
      "|                 466|    1|\n",
      "|                 193|    1|\n",
      "|                  64|    1|\n",
      "|                  54|    1|\n",
      "|                 446|    1|\n",
      "+--------------------+-----+\n",
      "only showing top 10 rows\n",
      "\n"
     ]
    },
    {
     "data": {
      "image/png": "[encoded data removed]",
      "text/plain": [
       "<Figure size 432x288 with 1 Axes>"
      ]
     },
     "metadata": {},
     "output_type": "display_data"
    }
   ],
   "source": [
    "analyzeContinuousValueColumn(reviews_df, 'HelpfulnessNumerator', 'helpfulnessNumerator', 'review')"
   ]
  },
  {
   "cell_type": "code",
   "execution_count": 10,
   "metadata": {},
   "outputs": [
    {
     "name": "stdout",
     "output_type": "stream",
     "text": [
      "Analyze HelpfulnessDenominator column\n",
      "\n",
      "top 10 helpfulnessDenominators with maximum number of reviews:\n",
      "+----------------------+-----+\n",
      "|helpfulnessDenominator|count|\n",
      "+----------------------+-----+\n",
      "|                     0|68635|\n",
      "|                     1|25656|\n",
      "|                     2|13331|\n",
      "|                     3| 6951|\n",
      "|                     4| 4336|\n",
      "|                     5| 2580|\n",
      "|                     6| 2016|\n",
      "|                     7| 1345|\n",
      "|                     8|  896|\n",
      "|                     9|  759|\n",
      "+----------------------+-----+\n",
      "only showing top 10 rows\n",
      "\n",
      "\n",
      "10 helpfulnessDenominators with minimum number of reviews:\n",
      "+----------------------+-----+\n",
      "|helpfulnessDenominator|count|\n",
      "+----------------------+-----+\n",
      "|                   263|    1|\n",
      "|                    90|    1|\n",
      "|                    60|    1|\n",
      "|                   488|    1|\n",
      "|                   452|    1|\n",
      "|                   284|    1|\n",
      "|                    73|    1|\n",
      "|                    54|    1|\n",
      "|                    69|    1|\n",
      "|                    61|    1|\n",
      "+----------------------+-----+\n",
      "only showing top 10 rows\n",
      "\n"
     ]
    },
    {
     "data": {
      "image/png": "[encoded data removed]",
      "text/plain": [
       "<Figure size 432x288 with 1 Axes>"
      ]
     },
     "metadata": {},
     "output_type": "display_data"
    }
   ],
   "source": [
    "analyzeContinuousValueColumn(reviews_df, 'HelpfulnessDenominator', 'helpfulnessDenominator', 'review')"
   ]
  },
  {
   "cell_type": "code",
   "execution_count": 11,
   "metadata": {},
   "outputs": [
    {
     "name": "stdout",
     "output_type": "stream",
     "text": [
      "\n",
      "Task3.c\n",
      "-------\n",
      "\n",
      "Explain the results of previous tasks:\n",
      "\n"
     ]
    },
    {
     "data": {
      "text/plain": [
       "\"\\n\\n----------------\\n1. Score column:\\n----------------\\nSince this column contains descrete values (1-5), It has been plotted on a bar plot.\\n\\nThere are 5 distinct scores\\n106054 reviews have been ranked as '5 stars'.\\n16691 reviews have been ranked as '4 stars'.\\n7309 reviews have been ranked as '3 stars'.\\n5928 reviews have been ranked as '2 stars'.\\n13406 reviews have been ranked as '1 stars'.\\n\\nNumber of filtered records is 149388\\nTotal number of reviews is 106054 + 16691 + 7309 + 5928 + 13406 = 149388\\nTherefore there are no reviews with  0 stars\\n\\n-------------------------------------------------------------------------------\\n2. The columns: ProductId, UserId, HelpfulnessNumerator, HelpfulnessDenominator\\n-------------------------------------------------------------------------------\\nSince these columns contains continueous values, It has been plotted on a histogram plot.\\n\\nfor each of these columns.\\nThe frequency has been calculated.\\n\\nSo we get for each product|user|helpfulness numerator|helpfulness denominator, the number of relevant reviews.\\n\\n    2.1 ProductId column:\\n    -------------------------\\n\\n    The most popular product is B007JFMH8M, with 401 reviews.\\n    The are many unpopular products, For example: B000EMK4JQ has only a single review.\\n\\n    From the products-reviews histogram we can conclude that most of the products have received less than 50 reviews.\\n\\n    \\n    2.2 UserId column:\\n    ----------------------\\n\\n    The most popular user is AZV26LP92E6WU, who posted with 161 reviews.\\n    Most of the users posted only a single review. For example: A13HKKCHHU1P5M has posted only a single review.\\n\\n    From the users-reviews histogram we can conclude that most of the users have posted only a single review.\\n    \\n    2.3 HelpfulnessNumerator column:\\n    --------------------------------\\n    88594 reviews, have not been indicated by the users as helpful.\\n    Just a few of the reviews have been indicated as helpful by many users. For example there is a review that has been indicated as helpful by 466 users.\\n\\n    From the users-reviews histogram we can conclude that most of the reviews were indicated as not helpful by the users.\\n\\n\\n    2.4 HelpfulnessDenominator column:\\n    ----------------------------------\\n    79295 reviews, have not been indicated by the users as helpful or not helpful.\\n    Just a few of the reviews have been indicated as helpful or not helpful by many users. For example there is a review that has been indicated by 488 users.\\n\\n    From the users-reviews histogram we can conclude that most of the reviews were not indicated by the users.\\n\\n\""
      ]
     },
     "execution_count": 11,
     "metadata": {},
     "output_type": "execute_result"
    }
   ],
   "source": [
    "print(\"\\nTask3.c\")\n",
    "print(\"-------\\n\")\n",
    "print(\"Explain the results of previous tasks:\\n\")\n",
    "'''\n",
    "\n",
    "----------------\n",
    "1. Score column:\n",
    "----------------\n",
    "Since this column contains descrete values (1-5), It has been plotted on a bar plot.\n",
    "\n",
    "There are 5 distinct scores\n",
    "106054 reviews have been ranked as '5 stars'.\n",
    "16691 reviews have been ranked as '4 stars'.\n",
    "7309 reviews have been ranked as '3 stars'.\n",
    "5928 reviews have been ranked as '2 stars'.\n",
    "13406 reviews have been ranked as '1 stars'.\n",
    "\n",
    "Number of filtered records is 149388\n",
    "Total number of reviews is 106054 + 16691 + 7309 + 5928 + 13406 = 149388\n",
    "Therefore there are no reviews with  0 stars\n",
    "\n",
    "-------------------------------------------------------------------------------\n",
    "2. The columns: ProductId, UserId, HelpfulnessNumerator, HelpfulnessDenominator\n",
    "-------------------------------------------------------------------------------\n",
    "Since these columns contains continueous values, It has been plotted on a histogram plot.\n",
    "\n",
    "for each of these columns.\n",
    "The frequency has been calculated.\n",
    "\n",
    "So we get for each product|user|helpfulness numerator|helpfulness denominator, the number of relevant reviews.\n",
    "\n",
    "    2.1 ProductId column:\n",
    "    -------------------------\n",
    "\n",
    "    The most popular product is B007JFMH8M, with 401 reviews.\n",
    "    The are many unpopular products, For example: B000EMK4JQ has only a single review.\n",
    "\n",
    "    From the products-reviews histogram we can conclude that most of the products have received less than 50 reviews.\n",
    "\n",
    "    \n",
    "    2.2 UserId column:\n",
    "    ----------------------\n",
    "\n",
    "    The most popular user is AZV26LP92E6WU, who posted with 161 reviews.\n",
    "    Most of the users posted only a single review. For example: A13HKKCHHU1P5M has posted only a single review.\n",
    "\n",
    "    From the users-reviews histogram we can conclude that most of the users have posted only a single review.\n",
    "    \n",
    "    2.3 HelpfulnessNumerator column:\n",
    "    --------------------------------\n",
    "    88594 reviews, have not been indicated by the users as helpful.\n",
    "    Just a few of the reviews have been indicated as helpful by many users. For example there is a review that has been indicated as helpful by 466 users.\n",
    "\n",
    "    From the users-reviews histogram we can conclude that most of the reviews were indicated as not helpful by the users.\n",
    "\n",
    "\n",
    "    2.4 HelpfulnessDenominator column:\n",
    "    ----------------------------------\n",
    "    79295 reviews, have not been indicated by the users as helpful or not helpful.\n",
    "    Just a few of the reviews have been indicated as helpful or not helpful by many users. For example there is a review that has been indicated by 488 users.\n",
    "\n",
    "    From the users-reviews histogram we can conclude that most of the reviews were not indicated by the users.\n",
    "\n",
    "'''"
   ]
  },
  {
   "cell_type": "code",
   "execution_count": 12,
   "metadata": {},
   "outputs": [
    {
     "name": "stdout",
     "output_type": "stream",
     "text": [
      "\n",
      "Task4.a\n",
      "-------\n",
      "\n",
      "Fill in bad or missing values:\n",
      "\n",
      "Null values were not detected\n"
     ]
    }
   ],
   "source": [
    "print(\"\\nTask4.a\")\n",
    "print(\"-------\\n\")\n",
    "print(\"Fill in bad or missing values:\\n\")\n",
    "\n",
    "numOfRecords = reviews_df.count()\n",
    "pandas_df = reviews_df.toPandas()\n",
    "isNullValuesFound=0\n",
    "for i in range(0,numOfColumns):\n",
    "    c = np.logical_not(pandas_df.isnull()).sum()[i]\n",
    "    if c != numOfRecords:\n",
    "        isNullValuesFound=1\n",
    "\n",
    "if(isNullValuesFound != 0):\n",
    "    print(\"Null values have been detected. Filling the gaps...\")\n",
    "    potentialColumnsForFillinValues = ['HelpfulnessNumerator', 'HelpfulnessDenominator', 'Score']\n",
    "    for column in potentialColumnsForFillinValues:\n",
    "        maxValue = columnCountRddList[selectedColumns.index(column)].max(lambda x: x[1])[0]\n",
    "        reviews_df.withColumn(column,F.when(F.isnull(reviews_df[column]),\n",
    "                                            repr(maxValue)).otherwise(reviews_df[column]))\n",
    "    reviews_df.show()\n",
    "    reviews_rdd = reviews_df.rdd()\n",
    "else:\n",
    "    print('Null values were not detected')"
   ]
  },
  {
   "cell_type": "code",
   "execution_count": 13,
   "metadata": {},
   "outputs": [
    {
     "name": "stdout",
     "output_type": "stream",
     "text": [
      "\n",
      "Task4.b\n",
      "-------\n",
      "\n",
      "Explain the strategy for Filling in bad or missing values:\n",
      "\n"
     ]
    },
    {
     "data": {
      "text/plain": [
       "\"\\nThe Filling in bad or missing values strategy:\\nThe minimal impact on a row, will be achived by filling the most common value of a given rdd pair.\\n\\nFor example:\\nin case of the score column, this is the relevant rdd pair [score -> count]:\\n5 \\t106054\\n4 \\t16691\\n3 \\t7309\\n2 \\t5928\\n1 \\t13406\\n\\nWe can observe, that the most common value (maximum value) is score 5 (with 106054 records).\\nTherefore if a score is missing in some record, we need to replace it with the value '5'\\n\\nThis strategy will be applied to all off the selected columns.\\n\""
      ]
     },
     "execution_count": 13,
     "metadata": {},
     "output_type": "execute_result"
    }
   ],
   "source": [
    "print(\"\\nTask4.b\")\n",
    "print(\"-------\\n\")\n",
    "print(\"Explain the strategy for Filling in bad or missing values:\\n\")\n",
    "'''\n",
    "The Filling in bad or missing values strategy:\n",
    "The minimal impact on a row, will be achived by filling the most common value of a given rdd pair.\n",
    "\n",
    "For example:\n",
    "in case of the score column, this is the relevant rdd pair [score -> count]:\n",
    "5 \t106054\n",
    "4 \t16691\n",
    "3 \t7309\n",
    "2 \t5928\n",
    "1 \t13406\n",
    "\n",
    "We can observe, that the most common value (maximum value) is score 5 (with 106054 records).\n",
    "Therefore if a score is missing in some record, we need to replace it with the value '5'\n",
    "\n",
    "This strategy will be applied to all off the selected columns.\n",
    "'''"
   ]
  },
  {
   "cell_type": "code",
   "execution_count": 14,
   "metadata": {},
   "outputs": [
    {
     "name": "stdout",
     "output_type": "stream",
     "text": [
      "\n",
      "Task5\n",
      "-------\n",
      "\n",
      "Transform 2 columns which contains categorical features to numerical values:\n",
      "\n",
      "Since there are no categorical columns, we will consider the columns: HelpfulnessNumerator, HelpfulnessDenominator as categorical, by partition these columns to different ranges.\n"
     ]
    },
    {
     "data": {
      "text/plain": [
       "[('1',\n",
       "  'B001E4KFG0',\n",
       "  'A3SGXH7AUHU8GW',\n",
       "  'delmartian',\n",
       "  1,\n",
       "  1,\n",
       "  5,\n",
       "  '1303862400',\n",
       "  'Good Quality Dog Food',\n",
       "  'I have bought several of the Vitality canned dog food products and have found them all to be of good quality. The product looks more like a stew than a processed meat and it smells better. My Labrador is finicky and she appreciates this product better than  most.'),\n",
       " ('2',\n",
       "  'B00813GRG4',\n",
       "  'A1D87F6ZCVE5NK',\n",
       "  'dll pa',\n",
       "  0,\n",
       "  0,\n",
       "  1,\n",
       "  '1346976000',\n",
       "  'Not as Advertised',\n",
       "  '\"Product arrived labeled as Jumbo Salted Peanuts...the peanuts were actually small sized unsalted. Not sure if this was an error or if the vendor intended to represent the product as \"\"Jumbo\"\".\"'),\n",
       " ('4',\n",
       "  'B000UA0QIQ',\n",
       "  'A395BORC6FGVXV',\n",
       "  'Karl',\n",
       "  2,\n",
       "  2,\n",
       "  2,\n",
       "  '1307923200',\n",
       "  'Cough Medicine',\n",
       "  'If you are looking for the secret ingredient in Robitussin I believe I have found it.  I got this in addition to the Root Beer Extract I ordered (which was good) and made some cherry soda.  The flavor is very medicinal.')]"
      ]
     },
     "execution_count": 14,
     "metadata": {},
     "output_type": "execute_result"
    }
   ],
   "source": [
    "print(\"\\nTask5\")\n",
    "print(\"-------\\n\")\n",
    "print(\"Transform 2 columns which contains categorical features to numerical values:\\n\")\n",
    "print(\"Since there are no categorical columns, we will consider the columns: HelpfulnessNumerator, HelpfulnessDenominator as categorical, by partition these columns to different ranges.\")\n",
    "\n",
    "# Most of the entries in the data are less than 2\n",
    "# Therefore 0 will be mapped to 0, and 1 will be mapped to 1\n",
    "# The rest of the values will be mapped according to their suitable length + 1\n",
    "def getCategory(x):\n",
    "    if x < 2:\n",
    "        return x\n",
    "    return len(str(x)) + 1\n",
    "\n",
    "# Create the desired mapping between a category and the corespponding value.\n",
    "helpfulnessDenominatorRddPair = columnCountRddList[selectedColumns.index('HelpfulnessDenominator')].map(lambda x: (int(x[0]), x[1])).sortBy(lambda x: x[1], ascending= False).map(lambda x: (x[0],getCategory(x[0])))\n",
    "helpfulnessDenominatorCountMap = helpfulnessDenominatorRddPair.collectAsMap()\n",
    "helpfulnessNumeratorRddPair = columnCountRddList[selectedColumns.index('HelpfulnessNumerator')].map(lambda x: (int(x[0]), x[1])).sortBy(lambda x: x[1], ascending= False).map(lambda x: (x[0],getCategory(x[0])))\n",
    "helpfulnessNumeratorCountMap = helpfulnessNumeratorRddPair.collectAsMap()\n",
    "\n",
    "# Map rdd entries with the transformed categories of the columns: helpfulnessDenominator, helpfulnessNumerator\n",
    "def mapWithCategories(x):\n",
    "    return (x[0], x[1], x[2], x[3], helpfulnessDenominatorCountMap[int(x[4])], helpfulnessNumeratorCountMap[int(x[5])], int(x[6]), x[7], x[8], x[9])\n",
    "\n",
    "# Perfoem rdd mapping of 2 categories for the columns: helpfulnessDenominator, helpfulnessNumerator\n",
    "reviews_rdd = reviews_rdd.map(lambda x: mapWithCategories(x))\n",
    "\n",
    "# Show top 3 rows after perdormin the transformations\n",
    "reviews_rdd.take(3)\n",
    "\n"
   ]
  },
  {
   "cell_type": "code",
   "execution_count": 75,
   "metadata": {},
   "outputs": [
    {
     "name": "stdout",
     "output_type": "stream",
     "text": [
      "+---+----------+--------------+--------------------+--------------------+----------------------+-----+----+--------------------+--------------------+\n",
      "| Id| ProductId|        UserId|         ProfileName|HelpfulnessNumerator|HelpfulnessDenominator|Score|Time|             Summary|                Text|\n",
      "+---+----------+--------------+--------------------+--------------------+----------------------+-----+----+--------------------+--------------------+\n",
      "|  1|B001E4KFG0|A3SGXH7AUHU8GW|          delmartian|                   1|                     1|    5|null|Good Quality Dog ...|I have bought sev...|\n",
      "|  2|B00813GRG4|A1D87F6ZCVE5NK|              dll pa|                   0|                     0|    1|null|   Not as Advertised|\"Product arrived ...|\n",
      "|  4|B000UA0QIQ|A395BORC6FGVXV|                Karl|                   3|                     3|    2|null|      Cough Medicine|If you are lookin...|\n",
      "|  9|B000E7L2R4|A1MZYO9TZK0BBI|            R. James|                   1|                     1|    5|null|          Yay Barley|Right now I'm mos...|\n",
      "| 10|B00171APVA|A21BT40VZCCYT4|       Carol A. Reed|                   0|                     0|    5|null|    Healthy Dog Food|This is a very he...|\n",
      "| 14|B001GVISJM|A18ECVX2RJ7HUE| \"willie \"\"roadie\"\"\"|                   2|                     2|    4|null|   fresh and greasy!|good flavor! thes...|\n",
      "| 15|B001GVISJM|A2MUGFV2TDQ47K|\"Lynrie \"\"Oh HELL...|                   4|                     5|    5|null|Strawberry Twizzl...|The Strawberry Tw...|\n",
      "| 17|B001GVISJM|A3KLWF6WQ5BNYO|      Erica Neathery|                   0|                     0|    2|null|          poor taste|I love eating the...|\n",
      "| 18|B001GVISJM| AFKW14U97Z6QO|               Becca|                   0|                     0|    5|null|            Love it!|I am very satisfi...|\n",
      "| 20|B001GVISJM|A3IV7CL2C13K2U|                Greg|                   0|                     0|    5|null|Home delivered tw...|Candy was deliver...|\n",
      "| 23|B001GVISJM| ARYVQL4N737A1|       Charles Brown|                   0|                     0|    5|null|  Delicious product!|I can remember bu...|\n",
      "| 24|B001GVISJM| AJ613OLZZUG7V|              Mare's|                   0|                     0|    5|null|           Twizzlers|I love this candy...|\n",
      "| 28|B001GVISJM| AAAS38B98HMIK|        Heather Dube|                   0|                     1|    4|null|Great Bargain for...|I was so glad Ama...|\n",
      "| 43|B001EO5QW8|A16XFOYQSJREL7|      Roger Pugliese|                   0|                     0|    5|null|          Food-Great|I have McCann's O...|\n",
      "| 45|B001EO5QW8|A2G7B7FKP2O2PU|          D. Leschke|                   0|                     0|    5|null|Great taste and c...|We really like th...|\n",
      "| 47|B001EO5QW8| AQLL2R1PPR46X|       grumpyrainbow|                   0|                     0|    5|null|                good|Good oatmeal.  I ...|\n",
      "| 50|B001EO5QW8|A276999Y6VRSCQ|                JMay|                   0|                     1|    3|null|          Same stuff|This is the same ...|\n",
      "| 54|B000G6RPMY| AQ9DWWYP2KJCQ|\"Roel Trevino \"\"p...|                   0|                     0|    3|null|      not ass kickin|we're used to spi...|\n",
      "| 57|B004N5KULM|A202WR509428VF|amateur amazon sh...|                   2|                     2|    5|null|       Awesome Deal!|Deal was awesome!...|\n",
      "| 63|B001EO5TPM|A1E09XGZUR78C6|       gary sturrock|                   2|                     2|    1|null|      stale product.|Arrived in 6 days...|\n",
      "+---+----------+--------------+--------------------+--------------------+----------------------+-----+----+--------------------+--------------------+\n",
      "only showing top 20 rows\n",
      "\n"
     ]
    }
   ],
   "source": [
    "#Task 6 - not completed\n",
    "reviews_df.withColumn('Time', F.date_format(reviews_df.Time.cast(dataType=t.TimestampType()), \"yyyy-MM-dd\")).show()\n"
   ]
  },
  {
   "cell_type": "code",
   "execution_count": 71,
   "metadata": {},
   "outputs": [
    {
     "name": "stdout",
     "output_type": "stream",
     "text": [
      "Assembled columns 'HelpfulnessNumerator', 'HelpfulnessDenominator', 'Score' to vector column 'features'\n",
      "+-------------+\n",
      "|features     |\n",
      "+-------------+\n",
      "|[1.0,1.0,5.0]|\n",
      "|[0.0,0.0,1.0]|\n",
      "|[3.0,3.0,2.0]|\n",
      "|[1.0,1.0,5.0]|\n",
      "|[0.0,0.0,5.0]|\n",
      "|[2.0,2.0,4.0]|\n",
      "|[4.0,5.0,5.0]|\n",
      "|[0.0,0.0,2.0]|\n",
      "|[0.0,0.0,5.0]|\n",
      "|[0.0,0.0,5.0]|\n",
      "|[0.0,0.0,5.0]|\n",
      "|[0.0,0.0,5.0]|\n",
      "|[0.0,1.0,4.0]|\n",
      "|[0.0,0.0,5.0]|\n",
      "|[0.0,0.0,5.0]|\n",
      "|[0.0,0.0,5.0]|\n",
      "|[0.0,1.0,3.0]|\n",
      "|[0.0,0.0,3.0]|\n",
      "|[2.0,2.0,5.0]|\n",
      "|[2.0,2.0,1.0]|\n",
      "+-------------+\n",
      "only showing top 20 rows\n",
      "\n",
      "Normalized using L^inf norm\n",
      "+--------------------+\n",
      "|        normFeatures|\n",
      "+--------------------+\n",
      "|       [0.2,0.2,1.0]|\n",
      "|       [0.0,0.0,1.0]|\n",
      "|[1.0,1.0,0.666666...|\n",
      "|       [0.2,0.2,1.0]|\n",
      "|       [0.0,0.0,1.0]|\n",
      "|       [0.5,0.5,1.0]|\n",
      "|       [0.8,1.0,1.0]|\n",
      "|       [0.0,0.0,1.0]|\n",
      "|       [0.0,0.0,1.0]|\n",
      "|       [0.0,0.0,1.0]|\n",
      "|       [0.0,0.0,1.0]|\n",
      "|       [0.0,0.0,1.0]|\n",
      "|      [0.0,0.25,1.0]|\n",
      "|       [0.0,0.0,1.0]|\n",
      "|       [0.0,0.0,1.0]|\n",
      "|       [0.0,0.0,1.0]|\n",
      "|[0.0,0.3333333333...|\n",
      "|       [0.0,0.0,1.0]|\n",
      "|       [0.4,0.4,1.0]|\n",
      "|       [1.0,1.0,0.5]|\n",
      "+--------------------+\n",
      "only showing top 20 rows\n",
      "\n"
     ]
    }
   ],
   "source": [
    "#Task 7\n",
    "columnsToFormat = [\"HelpfulnessNumerator\", \"HelpfulnessDenominator\", \"Score\"]\n",
    "\n",
    "for columnName in columnsToFormat:\n",
    "    reviews_df = reviews_df.withColumn(columnName, reviews_df[columnName].cast(IntegerType()))\n",
    "\n",
    "assembler = VectorAssembler(\n",
    "    inputCols = columnsToFormat,\n",
    "    outputCol = \"features\")\n",
    "\n",
    "output = assembler.transform(reviews_df)\n",
    "print(\"Assembled columns 'HelpfulnessNumerator', 'HelpfulnessDenominator', 'Score' to vector column 'features'\")\n",
    "output.select(\"features\").show(truncate=False)\n",
    "\n",
    "normalizer = Normalizer(inputCol=\"features\", outputCol=\"normFeatures\", p=1.0)\n",
    "l1NormData = normalizer.transform(output)\n",
    "#print(\"Normalized using L^1 norm\")\n",
    "#l1NormData.show()\n",
    "\n",
    "# Normalize each Vector using $L^\\infty$ norm.\n",
    "lInfNormData = normalizer.transform(output, {normalizer.p: float(\"inf\")})\n",
    "print(\"Normalized using L^inf norm\")\n",
    "\n",
    "\n",
    "normalizedColumns = lInfNormData.select([c for c in lInfNormData.columns if c in ['normFeatures']])\n",
    "normalizedColumns.show()"
   ]
  },
  {
   "cell_type": "code",
   "execution_count": 25,
   "metadata": {},
   "outputs": [
    {
     "name": "stdout",
     "output_type": "stream",
     "text": [
      "+-----------------------------------------------------------------------------------------------------------------------------------------------------------------------------------------------------------------------------------------------------------------------+-------------------------------------------------------------------------------------------------------------------------------------------------------------------------------------------------------------------------------------------------------------------------------------------------------------------------+------+\n",
      "|Text                                                                                                                                                                                                                                                                   |words                                                                                                                                                                                                                                                                                                                    |tokens|\n",
      "+-----------------------------------------------------------------------------------------------------------------------------------------------------------------------------------------------------------------------------------------------------------------------+-------------------------------------------------------------------------------------------------------------------------------------------------------------------------------------------------------------------------------------------------------------------------------------------------------------------------+------+\n",
      "|I have bought several of the Vitality canned dog food products and have found them all to be of good quality. The product looks more like a stew than a processed meat and it smells better. My Labrador is finicky and she appreciates this product better than  most.|[i, have, bought, several, of, the, vitality, canned, dog, food, products, and, have, found, them, all, to, be, of, good, quality., the, product, looks, more, like, a, stew, than, a, processed, meat, and, it, smells, better., my, labrador, is, finicky, and, she, appreciates, this, product, better, than, , most.]|49    |\n",
      "|\"Product arrived labeled as Jumbo Salted Peanuts...the peanuts were actually small sized unsalted. Not sure if this was an error or if the vendor intended to represent the product as \"\"Jumbo\"\".\"                                                                     |[\"product, arrived, labeled, as, jumbo, salted, peanuts...the, peanuts, were, actually, small, sized, unsalted., not, sure, if, this, was, an, error, or, if, the, vendor, intended, to, represent, the, product, as, \"\"jumbo\"\".\"]                                                                                       |31    |\n",
      "|If you are looking for the secret ingredient in Robitussin I believe I have found it.  I got this in addition to the Root Beer Extract I ordered (which was good) and made some cherry soda.  The flavor is very medicinal.                                            |[if, you, are, looking, for, the, secret, ingredient, in, robitussin, i, believe, i, have, found, it., , i, got, this, in, addition, to, the, root, beer, extract, i, ordered, (which, was, good), and, made, some, cherry, soda., , the, flavor, is, very, medicinal.]                                                  |43    |\n",
      "|Right now I'm mostly just sprouting this so my cats can eat the grass. They love it. I rotate it around with Wheatgrass and Rye too                                                                                                                                    |[right, now, i'm, mostly, just, sprouting, this, so, my, cats, can, eat, the, grass., they, love, it., i, rotate, it, around, with, wheatgrass, and, rye, too]                                                                                                                                                           |26    |\n",
      "|This is a very healthy dog food. Good for their digestion. Also good for small puppies. My dog eats her required amount at every feeding.                                                                                                                              |[this, is, a, very, healthy, dog, food., good, for, their, digestion., also, good, for, small, puppies., my, dog, eats, her, required, amount, at, every, feeding.]                                                                                                                                                      |25    |\n",
      "|good flavor! these came securely packed... they were fresh and delicious! i love these Twizzlers!                                                                                                                                                                      |[good, flavor!, these, came, securely, packed..., they, were, fresh, and, delicious!, i, love, these, twizzlers!]                                                                                                                                                                                                        |15    |\n",
      "|The Strawberry Twizzlers are my guilty pleasure - yummy. Six pounds will be around for a while with my son and I.                                                                                                                                                      |[the, strawberry, twizzlers, are, my, guilty, pleasure, -, yummy., six, pounds, will, be, around, for, a, while, with, my, son, and, i.]                                                                                                                                                                                 |22    |\n",
      "|I love eating them and they are good for watching TV and looking at movies! It is not too sweet. I like to transfer them to a zip lock baggie so they stay fresh so I can take my time eating them.                                                                    |[i, love, eating, them, and, they, are, good, for, watching, tv, and, looking, at, movies!, it, is, not, too, sweet., i, like, to, transfer, them, to, a, zip, lock, baggie, so, they, stay, fresh, so, i, can, take, my, time, eating, them.]                                                                           |42    |\n",
      "|I am very satisfied with my Twizzler purchase.  I shared these with others and we have all enjoyed them.  I will definitely be ordering more.                                                                                                                          |[i, am, very, satisfied, with, my, twizzler, purchase., , i, shared, these, with, others, and, we, have, all, enjoyed, them., , i, will, definitely, be, ordering, more.]                                                                                                                                                |27    |\n",
      "|Candy was delivered very fast and was purchased at a reasonable price.  I was home bound and unable to get to a store so this was perfect for me.                                                                                                                      |[candy, was, delivered, very, fast, and, was, purchased, at, a, reasonable, price., , i, was, home, bound, and, unable, to, get, to, a, store, so, this, was, perfect, for, me.]                                                                                                                                         |30    |\n",
      "|I can remember buying this candy as a kid and the quality hasn't dropped in all these years. Still a superb product you won't be disappointed with.                                                                                                                    |[i, can, remember, buying, this, candy, as, a, kid, and, the, quality, hasn't, dropped, in, all, these, years., still, a, superb, product, you, won't, be, disappointed, with.]                                                                                                                                          |27    |\n",
      "|I love this candy.  After weight watchers I had to cut back but still have a craving for it.                                                                                                                                                                           |[i, love, this, candy., , after, weight, watchers, i, had, to, cut, back, but, still, have, a, craving, for, it.]                                                                                                                                                                                                        |20    |\n",
      "|I was so glad Amazon carried these batteries.  I have a hard time finding them elsewhere because they are such a unique size.  I need them for my garage door opener.<br />Great deal for the price.                                                                   |[i, was, so, glad, amazon, carried, these, batteries., , i, have, a, hard, time, finding, them, elsewhere, because, they, are, such, a, unique, size., , i, need, them, for, my, garage, door, opener.<br, />great, deal, for, the, price.]                                                                              |38    |\n",
      "|I have McCann's Oatmeal every morning and by ordering it from Amazon I am able to save almost $3.00 per box.<br />It is a great product. Tastes great and very healthy                                                                                                 |[i, have, mccann's, oatmeal, every, morning, and, by, ordering, it, from, amazon, i, am, able, to, save, almost, $3.00, per, box.<br, />it, is, a, great, product., tastes, great, and, very, healthy]                                                                                                                   |31    |\n",
      "|We really like the McCann's steel cut oats but find we don't cook it up too often.<br />This tastes much better to me than the grocery store brands and is just as convenient.<br />Anything that keeps me eating oatmeal regularly is a good thing.                   |[we, really, like, the, mccann's, steel, cut, oats, but, find, we, don't, cook, it, up, too, often.<br, />this, tastes, much, better, to, me, than, the, grocery, store, brands, and, is, just, as, convenient.<br, />anything, that, keeps, me, eating, oatmeal, regularly, is, a, good, thing.]                        |44    |\n",
      "|Good oatmeal.  I like the apple cinnamon the best.  Though I wouldn't follow the directions on the package since it always comes out too soupy for my taste.  That could just be me since I like my oatmeal really thick to add some milk on top of.                   |[good, oatmeal., , i, like, the, apple, cinnamon, the, best., , though, i, wouldn't, follow, the, directions, on, the, package, since, it, always, comes, out, too, soupy, for, my, taste., , that, could, just, be, me, since, i, like, my, oatmeal, really, thick, to, add, some, milk, on, top, of.]                  |50    |\n",
      "|This is the same stuff you can buy at the big box stores.  There is nothing healthy about it.  It is just carbs and sugars.  Save your money and get something that at least has some taste.                                                                           |[this, is, the, same, stuff, you, can, buy, at, the, big, box, stores., , there, is, nothing, healthy, about, it., , it, is, just, carbs, and, sugars., , save, your, money, and, get, something, that, at, least, has, some, taste.]                                                                                    |40    |\n",
      "|we're used to spicy foods down here in south texas and these are not at all spicy.  doubt very much habanero is used at all.  could take it up a notch or two.                                                                                                         |[we're, used, to, spicy, foods, down, here, in, south, texas, and, these, are, not, at, all, spicy., , doubt, very, much, habanero, is, used, at, all., , could, take, it, up, a, notch, or, two.]                                                                                                                       |35    |\n",
      "|Deal was awesome!  Arrived before Halloween as indicated and was enough to satisfy trick or treaters.  I love the quality of this product and it was much less expensive than the local store's candy.                                                                 |[deal, was, awesome!, , arrived, before, halloween, as, indicated, and, was, enough, to, satisfy, trick, or, treaters., , i, love, the, quality, of, this, product, and, it, was, much, less, expensive, than, the, local, store's, candy.]                                                                              |36    |\n",
      "|Arrived in 6 days and were so stale i could not eat any of the 6 bags!!                                                                                                                                                                                                |[arrived, in, 6, days, and, were, so, stale, i, could, not, eat, any, of, the, 6, bags!!]                                                                                                                                                                                                                                |17    |\n",
      "+-----------------------------------------------------------------------------------------------------------------------------------------------------------------------------------------------------------------------------------------------------------------------+-------------------------------------------------------------------------------------------------------------------------------------------------------------------------------------------------------------------------------------------------------------------------------------------------------------------------+------+\n",
      "only showing top 20 rows\n",
      "\n"
     ]
    },
    {
     "name": "stdout",
     "output_type": "stream",
     "text": [
      "+---+----------+--------------+---------------------------+--------------------+----------------------+-----+----------+----------------------------+-----------------------------------------------------------------------------------------------------------------------------------------------------------------------------------------------------------------------------------------------------------------------+--------------------------------------------------------------------------------------------------------------------------------------------------------------------------------------------------------------------------------------------------------------------------------------------------------------------+\n",
      "|Id |ProductId |UserId        |ProfileName                |HelpfulnessNumerator|HelpfulnessDenominator|Score|Time      |Summary                     |Text                                                                                                                                                                                                                                                                   |words                                                                                                                                                                                                                                                                                                               |\n",
      "+---+----------+--------------+---------------------------+--------------------+----------------------+-----+----------+----------------------------+-----------------------------------------------------------------------------------------------------------------------------------------------------------------------------------------------------------------------------------------------------------------------+--------------------------------------------------------------------------------------------------------------------------------------------------------------------------------------------------------------------------------------------------------------------------------------------------------------------+\n",
      "|1  |B001E4KFG0|A3SGXH7AUHU8GW|delmartian                 |1                   |1                     |5    |1303862400|Good Quality Dog Food       |I have bought several of the Vitality canned dog food products and have found them all to be of good quality. The product looks more like a stew than a processed meat and it smells better. My Labrador is finicky and she appreciates this product better than  most.|[i, have, bought, several, of, the, vitality, canned, dog, food, products, and, have, found, them, all, to, be, of, good, quality, the, product, looks, more, like, a, stew, than, a, processed, meat, and, it, smells, better, my, labrador, is, finicky, and, she, appreciates, this, product, better, than, most]|\n",
      "|2  |B00813GRG4|A1D87F6ZCVE5NK|dll pa                     |0                   |0                     |1    |1346976000|Not as Advertised           |\"Product arrived labeled as Jumbo Salted Peanuts...the peanuts were actually small sized unsalted. Not sure if this was an error or if the vendor intended to represent the product as \"\"Jumbo\"\".\"                                                                     |[product, arrived, labeled, as, jumbo, salted, peanuts, the, peanuts, were, actually, small, sized, unsalted, not, sure, if, this, was, an, error, or, if, the, vendor, intended, to, represent, the, product, as, jumbo]                                                                                           |\n",
      "|4  |B000UA0QIQ|A395BORC6FGVXV|Karl                       |3                   |3                     |2    |1307923200|Cough Medicine              |If you are looking for the secret ingredient in Robitussin I believe I have found it.  I got this in addition to the Root Beer Extract I ordered (which was good) and made some cherry soda.  The flavor is very medicinal.                                            |[if, you, are, looking, for, the, secret, ingredient, in, robitussin, i, believe, i, have, found, it, i, got, this, in, addition, to, the, root, beer, extract, i, ordered, which, was, good, and, made, some, cherry, soda, the, flavor, is, very, medicinal]                                                      |\n",
      "|9  |B000E7L2R4|A1MZYO9TZK0BBI|R. James                   |1                   |1                     |5    |1322006400|Yay Barley                  |Right now I'm mostly just sprouting this so my cats can eat the grass. They love it. I rotate it around with Wheatgrass and Rye too                                                                                                                                    |[right, now, i, m, mostly, just, sprouting, this, so, my, cats, can, eat, the, grass, they, love, it, i, rotate, it, around, with, wheatgrass, and, rye, too]                                                                                                                                                       |\n",
      "|10 |B00171APVA|A21BT40VZCCYT4|Carol A. Reed              |0                   |0                     |5    |1351209600|Healthy Dog Food            |This is a very healthy dog food. Good for their digestion. Also good for small puppies. My dog eats her required amount at every feeding.                                                                                                                              |[this, is, a, very, healthy, dog, food, good, for, their, digestion, also, good, for, small, puppies, my, dog, eats, her, required, amount, at, every, feeding]                                                                                                                                                     |\n",
      "|14 |B001GVISJM|A18ECVX2RJ7HUE|\"willie \"\"roadie\"\"\"        |2                   |2                     |4    |1288915200|fresh and greasy!           |good flavor! these came securely packed... they were fresh and delicious! i love these Twizzlers!                                                                                                                                                                      |[good, flavor, these, came, securely, packed, they, were, fresh, and, delicious, i, love, these, twizzlers]                                                                                                                                                                                                         |\n",
      "|15 |B001GVISJM|A2MUGFV2TDQ47K|\"Lynrie \"\"Oh HELL no\"\"\"    |4                   |5                     |5    |1268352000|Strawberry Twizzlers - Yummy|The Strawberry Twizzlers are my guilty pleasure - yummy. Six pounds will be around for a while with my son and I.                                                                                                                                                      |[the, strawberry, twizzlers, are, my, guilty, pleasure, yummy, six, pounds, will, be, around, for, a, while, with, my, son, and, i]                                                                                                                                                                                 |\n",
      "|17 |B001GVISJM|A3KLWF6WQ5BNYO|Erica Neathery             |0                   |0                     |2    |1348099200|poor taste                  |I love eating them and they are good for watching TV and looking at movies! It is not too sweet. I like to transfer them to a zip lock baggie so they stay fresh so I can take my time eating them.                                                                    |[i, love, eating, them, and, they, are, good, for, watching, tv, and, looking, at, movies, it, is, not, too, sweet, i, like, to, transfer, them, to, a, zip, lock, baggie, so, they, stay, fresh, so, i, can, take, my, time, eating, them]                                                                         |\n",
      "|18 |B001GVISJM|AFKW14U97Z6QO |Becca                      |0                   |0                     |5    |1345075200|Love it!                    |I am very satisfied with my Twizzler purchase.  I shared these with others and we have all enjoyed them.  I will definitely be ordering more.                                                                                                                          |[i, am, very, satisfied, with, my, twizzler, purchase, i, shared, these, with, others, and, we, have, all, enjoyed, them, i, will, definitely, be, ordering, more]                                                                                                                                                  |\n",
      "|20 |B001GVISJM|A3IV7CL2C13K2U|Greg                       |0                   |0                     |5    |1318032000|Home delivered twizlers     |Candy was delivered very fast and was purchased at a reasonable price.  I was home bound and unable to get to a store so this was perfect for me.                                                                                                                      |[candy, was, delivered, very, fast, and, was, purchased, at, a, reasonable, price, i, was, home, bound, and, unable, to, get, to, a, store, so, this, was, perfect, for, me]                                                                                                                                        |\n",
      "|23 |B001GVISJM|ARYVQL4N737A1 |Charles Brown              |0                   |0                     |5    |1304899200|Delicious product!          |I can remember buying this candy as a kid and the quality hasn't dropped in all these years. Still a superb product you won't be disappointed with.                                                                                                                    |[i, can, remember, buying, this, candy, as, a, kid, and, the, quality, hasn, t, dropped, in, all, these, years, still, a, superb, product, you, won, t, be, disappointed, with]                                                                                                                                     |\n",
      "|24 |B001GVISJM|AJ613OLZZUG7V |Mare's                     |0                   |0                     |5    |1304467200|Twizzlers                   |I love this candy.  After weight watchers I had to cut back but still have a craving for it.                                                                                                                                                                           |[i, love, this, candy, after, weight, watchers, i, had, to, cut, back, but, still, have, a, craving, for, it]                                                                                                                                                                                                       |\n",
      "|28 |B001GVISJM|AAAS38B98HMIK |Heather Dube               |0                   |1                     |4    |1331856000|Great Bargain for the Price |I was so glad Amazon carried these batteries.  I have a hard time finding them elsewhere because they are such a unique size.  I need them for my garage door opener.<br />Great deal for the price.                                                                   |[i, was, so, glad, amazon, carried, these, batteries, i, have, a, hard, time, finding, them, elsewhere, because, they, are, such, a, unique, size, i, need, them, for, my, garage, door, opener, br, great, deal, for, the, price]                                                                                  |\n",
      "|43 |B001EO5QW8|A16XFOYQSJREL7|Roger Pugliese             |0                   |0                     |5    |1287014400|Food-Great                  |I have McCann's Oatmeal every morning and by ordering it from Amazon I am able to save almost $3.00 per box.<br />It is a great product. Tastes great and very healthy                                                                                                 |[i, have, mccann, s, oatmeal, every, morning, and, by, ordering, it, from, amazon, i, am, able, to, save, almost, 3, 00, per, box, br, it, is, a, great, product, tastes, great, and, very, healthy]                                                                                                                |\n",
      "|45 |B001EO5QW8|A2G7B7FKP2O2PU|D. Leschke                 |0                   |0                     |5    |1209686400|Great taste and convenience |We really like the McCann's steel cut oats but find we don't cook it up too often.<br />This tastes much better to me than the grocery store brands and is just as convenient.<br />Anything that keeps me eating oatmeal regularly is a good thing.                   |[we, really, like, the, mccann, s, steel, cut, oats, but, find, we, don, t, cook, it, up, too, often, br, this, tastes, much, better, to, me, than, the, grocery, store, brands, and, is, just, as, convenient, br, anything, that, keeps, me, eating, oatmeal, regularly, is, a, good, thing]                      |\n",
      "|47 |B001EO5QW8|AQLL2R1PPR46X |grumpyrainbow              |0                   |0                     |5    |1192752000|good                        |Good oatmeal.  I like the apple cinnamon the best.  Though I wouldn't follow the directions on the package since it always comes out too soupy for my taste.  That could just be me since I like my oatmeal really thick to add some milk on top of.                   |[good, oatmeal, i, like, the, apple, cinnamon, the, best, though, i, wouldn, t, follow, the, directions, on, the, package, since, it, always, comes, out, too, soupy, for, my, taste, that, could, just, be, me, since, i, like, my, oatmeal, really, thick, to, add, some, milk, on, top, of]                      |\n",
      "|50 |B001EO5QW8|A276999Y6VRSCQ|JMay                       |0                   |1                     |3    |1334016000|Same stuff                  |This is the same stuff you can buy at the big box stores.  There is nothing healthy about it.  It is just carbs and sugars.  Save your money and get something that at least has some taste.                                                                           |[this, is, the, same, stuff, you, can, buy, at, the, big, box, stores, there, is, nothing, healthy, about, it, it, is, just, carbs, and, sugars, save, your, money, and, get, something, that, at, least, has, some, taste]                                                                                         |\n",
      "|54 |B000G6RPMY|AQ9DWWYP2KJCQ |\"Roel Trevino \"\"protomex\"\"\"|0                   |0                     |3    |1278028800|not ass kickin              |we're used to spicy foods down here in south texas and these are not at all spicy.  doubt very much habanero is used at all.  could take it up a notch or two.                                                                                                         |[we, re, used, to, spicy, foods, down, here, in, south, texas, and, these, are, not, at, all, spicy, doubt, very, much, habanero, is, used, at, all, could, take, it, up, a, notch, or, two]                                                                                                                        |\n",
      "|57 |B004N5KULM|A202WR509428VF|amateur amazon shopper     |2                   |2                     |5    |1322438400|Awesome Deal!               |Deal was awesome!  Arrived before Halloween as indicated and was enough to satisfy trick or treaters.  I love the quality of this product and it was much less expensive than the local store's candy.                                                                 |[deal, was, awesome, arrived, before, halloween, as, indicated, and, was, enough, to, satisfy, trick, or, treaters, i, love, the, quality, of, this, product, and, it, was, much, less, expensive, than, the, local, store, s, candy]                                                                               |\n",
      "|63 |B001EO5TPM|A1E09XGZUR78C6|gary sturrock              |2                   |2                     |1    |1215302400|stale product.              |Arrived in 6 days and were so stale i could not eat any of the 6 bags!!                                                                                                                                                                                                |[arrived, in, 6, days, and, were, so, stale, i, could, not, eat, any, of, the, 6, bags]                                                                                                                                                                                                                             |\n",
      "+---+----------+--------------+---------------------------+--------------------+----------------------+-----+----------+----------------------------+-----------------------------------------------------------------------------------------------------------------------------------------------------------------------------------------------------------------------------------------------------------------------+--------------------------------------------------------------------------------------------------------------------------------------------------------------------------------------------------------------------------------------------------------------------------------------------------------------------+\n",
      "only showing top 20 rows\n",
      "\n"
     ]
    }
   ],
   "source": [
    "#Task 8 - no binary vectorization\n",
    "\n",
    "#Tokenize the text column\n",
    "tokenizer = Tokenizer(inputCol=\"Text\", outputCol=\"words\")\n",
    "\n",
    "regexTokenizer = RegexTokenizer(inputCol=\"Text\", outputCol=\"words\", pattern=\"\\\\W\")\n",
    "# alternatively, pattern=\"\\\\w+\", gaps(False)\n",
    "\n",
    "countTokens = udf(lambda words: len(words), IntegerType())\n",
    "\n",
    "tokenized = tokenizer.transform(reviews_df)\n",
    "tokenized.select(\"Text\", \"words\")\\\n",
    "    .withColumn(\"tokens\", countTokens(col(\"words\"))).show(truncate=False)\n",
    "\n",
    "regexTokenized = regexTokenizer.transform(reviews_df)\n",
    "tokenizedData = regexTokenized.select(\"Text\", \"words\") \\\n",
    "    .withColumn(\"tokens\", countTokens(col(\"words\")))\n",
    "\n",
    "regexTokenized.show(truncate=False)"
   ]
  },
  {
   "cell_type": "code",
   "execution_count": 26,
   "metadata": {},
   "outputs": [
    {
     "name": "stdout",
     "output_type": "stream",
     "text": [
      "DataFrame[Text: string, words: array<string>, tokens: int]\n",
      "+-----------------------------------------------------------------------------------------------------------------------------------------------------------------------------------------------------------------------------------------------------------------------+--------------------------------------------------------------------------------------------------------------------------------------------------------------------------------------------------------------------------------------------------------------------------------------------------------------------+------+--------------------------------------------------------------------------------------------------------------------------------------------------------------------------------------------+\n",
      "|Text                                                                                                                                                                                                                                                                   |words                                                                                                                                                                                                                                                                                                               |tokens|filtered                                                                                                                                                                                    |\n",
      "+-----------------------------------------------------------------------------------------------------------------------------------------------------------------------------------------------------------------------------------------------------------------------+--------------------------------------------------------------------------------------------------------------------------------------------------------------------------------------------------------------------------------------------------------------------------------------------------------------------+------+--------------------------------------------------------------------------------------------------------------------------------------------------------------------------------------------+\n",
      "|I have bought several of the Vitality canned dog food products and have found them all to be of good quality. The product looks more like a stew than a processed meat and it smells better. My Labrador is finicky and she appreciates this product better than  most.|[i, have, bought, several, of, the, vitality, canned, dog, food, products, and, have, found, them, all, to, be, of, good, quality, the, product, looks, more, like, a, stew, than, a, processed, meat, and, it, smells, better, my, labrador, is, finicky, and, she, appreciates, this, product, better, than, most]|48    |[bought, several, vitality, canned, dog, food, products, found, good, quality, product, looks, like, stew, processed, meat, smells, better, labrador, finicky, appreciates, product, better]|\n",
      "|\"Product arrived labeled as Jumbo Salted Peanuts...the peanuts were actually small sized unsalted. Not sure if this was an error or if the vendor intended to represent the product as \"\"Jumbo\"\".\"                                                                     |[product, arrived, labeled, as, jumbo, salted, peanuts, the, peanuts, were, actually, small, sized, unsalted, not, sure, if, this, was, an, error, or, if, the, vendor, intended, to, represent, the, product, as, jumbo]                                                                                           |32    |[product, arrived, labeled, jumbo, salted, peanuts, peanuts, actually, small, sized, unsalted, sure, error, vendor, intended, represent, product, jumbo]                                    |\n",
      "|If you are looking for the secret ingredient in Robitussin I believe I have found it.  I got this in addition to the Root Beer Extract I ordered (which was good) and made some cherry soda.  The flavor is very medicinal.                                            |[if, you, are, looking, for, the, secret, ingredient, in, robitussin, i, believe, i, have, found, it, i, got, this, in, addition, to, the, root, beer, extract, i, ordered, which, was, good, and, made, some, cherry, soda, the, flavor, is, very, medicinal]                                                      |41    |[looking, secret, ingredient, robitussin, believe, found, got, addition, root, beer, extract, ordered, good, made, cherry, soda, flavor, medicinal]                                         |\n",
      "|Right now I'm mostly just sprouting this so my cats can eat the grass. They love it. I rotate it around with Wheatgrass and Rye too                                                                                                                                    |[right, now, i, m, mostly, just, sprouting, this, so, my, cats, can, eat, the, grass, they, love, it, i, rotate, it, around, with, wheatgrass, and, rye, too]                                                                                                                                                       |27    |[right, m, mostly, sprouting, cats, eat, grass, love, rotate, around, wheatgrass, rye]                                                                                                      |\n",
      "|This is a very healthy dog food. Good for their digestion. Also good for small puppies. My dog eats her required amount at every feeding.                                                                                                                              |[this, is, a, very, healthy, dog, food, good, for, their, digestion, also, good, for, small, puppies, my, dog, eats, her, required, amount, at, every, feeding]                                                                                                                                                     |25    |[healthy, dog, food, good, digestion, also, good, small, puppies, dog, eats, required, amount, every, feeding]                                                                              |\n",
      "|good flavor! these came securely packed... they were fresh and delicious! i love these Twizzlers!                                                                                                                                                                      |[good, flavor, these, came, securely, packed, they, were, fresh, and, delicious, i, love, these, twizzlers]                                                                                                                                                                                                         |15    |[good, flavor, came, securely, packed, fresh, delicious, love, twizzlers]                                                                                                                   |\n",
      "|The Strawberry Twizzlers are my guilty pleasure - yummy. Six pounds will be around for a while with my son and I.                                                                                                                                                      |[the, strawberry, twizzlers, are, my, guilty, pleasure, yummy, six, pounds, will, be, around, for, a, while, with, my, son, and, i]                                                                                                                                                                                 |21    |[strawberry, twizzlers, guilty, pleasure, yummy, six, pounds, around, son]                                                                                                                  |\n",
      "|I love eating them and they are good for watching TV and looking at movies! It is not too sweet. I like to transfer them to a zip lock baggie so they stay fresh so I can take my time eating them.                                                                    |[i, love, eating, them, and, they, are, good, for, watching, tv, and, looking, at, movies, it, is, not, too, sweet, i, like, to, transfer, them, to, a, zip, lock, baggie, so, they, stay, fresh, so, i, can, take, my, time, eating, them]                                                                         |42    |[love, eating, good, watching, tv, looking, movies, sweet, like, transfer, zip, lock, baggie, stay, fresh, take, time, eating]                                                              |\n",
      "|I am very satisfied with my Twizzler purchase.  I shared these with others and we have all enjoyed them.  I will definitely be ordering more.                                                                                                                          |[i, am, very, satisfied, with, my, twizzler, purchase, i, shared, these, with, others, and, we, have, all, enjoyed, them, i, will, definitely, be, ordering, more]                                                                                                                                                  |25    |[satisfied, twizzler, purchase, shared, others, enjoyed, definitely, ordering]                                                                                                              |\n",
      "|Candy was delivered very fast and was purchased at a reasonable price.  I was home bound and unable to get to a store so this was perfect for me.                                                                                                                      |[candy, was, delivered, very, fast, and, was, purchased, at, a, reasonable, price, i, was, home, bound, and, unable, to, get, to, a, store, so, this, was, perfect, for, me]                                                                                                                                        |29    |[candy, delivered, fast, purchased, reasonable, price, home, bound, unable, get, store, perfect]                                                                                            |\n",
      "|I can remember buying this candy as a kid and the quality hasn't dropped in all these years. Still a superb product you won't be disappointed with.                                                                                                                    |[i, can, remember, buying, this, candy, as, a, kid, and, the, quality, hasn, t, dropped, in, all, these, years, still, a, superb, product, you, won, t, be, disappointed, with]                                                                                                                                     |29    |[remember, buying, candy, kid, quality, hasn, dropped, years, still, superb, product, won, disappointed]                                                                                    |\n",
      "|I love this candy.  After weight watchers I had to cut back but still have a craving for it.                                                                                                                                                                           |[i, love, this, candy, after, weight, watchers, i, had, to, cut, back, but, still, have, a, craving, for, it]                                                                                                                                                                                                       |19    |[love, candy, weight, watchers, cut, back, still, craving]                                                                                                                                  |\n",
      "|I was so glad Amazon carried these batteries.  I have a hard time finding them elsewhere because they are such a unique size.  I need them for my garage door opener.<br />Great deal for the price.                                                                   |[i, was, so, glad, amazon, carried, these, batteries, i, have, a, hard, time, finding, them, elsewhere, because, they, are, such, a, unique, size, i, need, them, for, my, garage, door, opener, br, great, deal, for, the, price]                                                                                  |37    |[glad, amazon, carried, batteries, hard, time, finding, elsewhere, unique, size, need, garage, door, opener, br, great, deal, price]                                                        |\n",
      "|I have McCann's Oatmeal every morning and by ordering it from Amazon I am able to save almost $3.00 per box.<br />It is a great product. Tastes great and very healthy                                                                                                 |[i, have, mccann, s, oatmeal, every, morning, and, by, ordering, it, from, amazon, i, am, able, to, save, almost, 3, 00, per, box, br, it, is, a, great, product, tastes, great, and, very, healthy]                                                                                                                |34    |[mccann, oatmeal, every, morning, ordering, amazon, able, save, almost, 3, 00, per, box, br, great, product, tastes, great, healthy]                                                        |\n",
      "|We really like the McCann's steel cut oats but find we don't cook it up too often.<br />This tastes much better to me than the grocery store brands and is just as convenient.<br />Anything that keeps me eating oatmeal regularly is a good thing.                   |[we, really, like, the, mccann, s, steel, cut, oats, but, find, we, don, t, cook, it, up, too, often, br, this, tastes, much, better, to, me, than, the, grocery, store, brands, and, is, just, as, convenient, br, anything, that, keeps, me, eating, oatmeal, regularly, is, a, good, thing]                      |48    |[really, like, mccann, steel, cut, oats, find, cook, often, br, tastes, much, better, grocery, store, brands, convenient, br, anything, keeps, eating, oatmeal, regularly, good, thing]     |\n",
      "|Good oatmeal.  I like the apple cinnamon the best.  Though I wouldn't follow the directions on the package since it always comes out too soupy for my taste.  That could just be me since I like my oatmeal really thick to add some milk on top of.                   |[good, oatmeal, i, like, the, apple, cinnamon, the, best, though, i, wouldn, t, follow, the, directions, on, the, package, since, it, always, comes, out, too, soupy, for, my, taste, that, could, just, be, me, since, i, like, my, oatmeal, really, thick, to, add, some, milk, on, top, of]                      |48    |[good, oatmeal, like, apple, cinnamon, best, though, wouldn, follow, directions, package, since, always, comes, soupy, taste, since, like, oatmeal, really, thick, add, milk, top]          |\n",
      "|This is the same stuff you can buy at the big box stores.  There is nothing healthy about it.  It is just carbs and sugars.  Save your money and get something that at least has some taste.                                                                           |[this, is, the, same, stuff, you, can, buy, at, the, big, box, stores, there, is, nothing, healthy, about, it, it, is, just, carbs, and, sugars, save, your, money, and, get, something, that, at, least, has, some, taste]                                                                                         |37    |[stuff, buy, big, box, stores, nothing, healthy, carbs, sugars, save, money, get, something, least, taste]                                                                                  |\n",
      "|we're used to spicy foods down here in south texas and these are not at all spicy.  doubt very much habanero is used at all.  could take it up a notch or two.                                                                                                         |[we, re, used, to, spicy, foods, down, here, in, south, texas, and, these, are, not, at, all, spicy, doubt, very, much, habanero, is, used, at, all, could, take, it, up, a, notch, or, two]                                                                                                                        |34    |[re, used, spicy, foods, south, texas, spicy, doubt, much, habanero, used, take, notch, two]                                                                                                |\n",
      "|Deal was awesome!  Arrived before Halloween as indicated and was enough to satisfy trick or treaters.  I love the quality of this product and it was much less expensive than the local store's candy.                                                                 |[deal, was, awesome, arrived, before, halloween, as, indicated, and, was, enough, to, satisfy, trick, or, treaters, i, love, the, quality, of, this, product, and, it, was, much, less, expensive, than, the, local, store, s, candy]                                                                               |35    |[deal, awesome, arrived, halloween, indicated, enough, satisfy, trick, treaters, love, quality, product, much, less, expensive, local, store, candy]                                        |\n",
      "|Arrived in 6 days and were so stale i could not eat any of the 6 bags!!                                                                                                                                                                                                |[arrived, in, 6, days, and, were, so, stale, i, could, not, eat, any, of, the, 6, bags]                                                                                                                                                                                                                             |17    |[arrived, 6, days, stale, eat, 6, bags]                                                                                                                                                     |\n",
      "+-----------------------------------------------------------------------------------------------------------------------------------------------------------------------------------------------------------------------------------------------------------------------+--------------------------------------------------------------------------------------------------------------------------------------------------------------------------------------------------------------------------------------------------------------------------------------------------------------------+------+--------------------------------------------------------------------------------------------------------------------------------------------------------------------------------------------+\n",
      "only showing top 20 rows\n",
      "\n"
     ]
    }
   ],
   "source": [
    "print(tokenizedData)\n",
    "\n",
    "#Stop word remover - remove unnessasry words from the list \n",
    "listOfWords = StopWordsRemover.loadDefaultStopWords(\"english\")\n",
    "remover = StopWordsRemover(inputCol=\"words\", outputCol=\"filtered\", stopWords=listOfWords)\n",
    "\n",
    "remover.transform(tokenizedData).show(truncate=False)"
   ]
  },
  {
   "cell_type": "code",
   "execution_count": null,
   "metadata": {},
   "outputs": [],
   "source": []
  },
  {
   "cell_type": "code",
   "execution_count": null,
   "metadata": {},
   "outputs": [],
   "source": []
  }
 ],
 "metadata": {
  "kernelspec": {
   "display_name": "Python 3",
   "language": "python",
   "name": "python3"
  },
  "language_info": {
   "codemirror_mode": {
    "name": "ipython",
    "version": 3
   },
   "file_extension": ".py",
   "mimetype": "text/x-python",
   "name": "python",
   "nbconvert_exporter": "python",
   "pygments_lexer": "ipython3",
   "version": "3.6.7"
  }
 },
 "nbformat": 4,
 "nbformat_minor": 2
}
