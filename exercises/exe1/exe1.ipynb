{
 "cells": [
  {
   "cell_type": "code",
   "execution_count": 46,
   "metadata": {},
   "outputs": [],
   "source": [
    "from pyspark.context import SparkContext"
   ]
  },
  {
   "cell_type": "code",
   "execution_count": 47,
   "metadata": {},
   "outputs": [
    {
     "name": "stdout",
     "output_type": "stream",
     "text": [
      "----------------------------------------------------------------------------------------------------------------\n",
      "------\n",
      "Task1:\n",
      "------\n",
      "Load the data\n",
      "Task1 - done\n",
      "----------------------------------------------------------------------------------------------------------------\n"
     ]
    }
   ],
   "source": [
    "print(\"----------------------------------------------------------------------------------------------------------------\")\n",
    "\n",
    "print(\"------\")\n",
    "print(\"Task1:\")\n",
    "print(\"------\")\n",
    "\n",
    "print(\"Load the data\")\n",
    "reviews = sc.textFile(\"Reviews.csv\")\n",
    "\n",
    "print(\"Task1 - done\")\n",
    "print(\"----------------------------------------------------------------------------------------------------------------\")"
   ]
  },
  {
   "cell_type": "code",
   "execution_count": 48,
   "metadata": {},
   "outputs": [
    {
     "name": "stdout",
     "output_type": "stream",
     "text": [
      "------\n",
      "Task2:\n",
      "------\n",
      "Transform the data set into RDD pair, where the key is the unique id and the value is a Python list which contains the rest of the columns\n",
      "Task2 - done\n",
      "----------------------------------------------------------------------------------------------------------------\n"
     ]
    }
   ],
   "source": [
    "print(\"------\")\n",
    "print(\"Task2:\")\n",
    "print(\"------\")\n",
    "print(\"Transform the data set into RDD pair, where the key is the unique id and the value is a Python list which contains the rest of the columns\")\n",
    "transformed_reviews = reviews.map(lambda x:(x.split(\",\")[0],x.split(\",\")[1:])) \n",
    "\n",
    "print(\"Task2 - done\")\n",
    "print(\"----------------------------------------------------------------------------------------------------------------\")"
   ]
  },
  {
   "cell_type": "code",
   "execution_count": 49,
   "metadata": {},
   "outputs": [
    {
     "name": "stdout",
     "output_type": "stream",
     "text": [
      "------\n",
      "Task3:\n",
      "------\n",
      "Choose 5 important columns and for each column, execute tasks a-c\n",
      "\n",
      "\n",
      "Task3.a\n",
      "-------\n",
      "Count the distinct values in each column\n",
      "\n",
      "\n",
      "get reviews rdd\n",
      "Get columns titles\n",
      "Get number of columns, based on columns titles length\n",
      "Filter out corrupted records, with invalid number of columns\n",
      "get reviews data frame\n",
      "Number of filtered records: 149389\n",
      "Number of distinct scores: 6\n",
      "Number of distinct users: 84967\n",
      "Number of distinct helpfulness denominators: 88\n",
      "Number of distinct helpfulness numerators: 78\n",
      "Number of distinct products: 40631\n",
      "\n",
      "\n",
      "Task3.b\n",
      "-------\n",
      "\n",
      "\n"
     ]
    }
   ],
   "source": [
    "print(\"------\")\n",
    "print(\"Task3:\")\n",
    "print(\"------\")\n",
    "\n",
    "print(\"Choose 5 important columns and for each column, execute tasks a-c\")\n",
    "print(\"\\n\")\n",
    "\n",
    "print(\"Task3.a\")\n",
    "print(\"-------\")\n",
    "print(\"Count the distinct values in each column\")\n",
    "print(\"\\n\")\n",
    "\n",
    "print(\"get reviews rdd\")\n",
    "reviews_rdd = reviewsFiltered.map(lambda line: line.split(\",\"))\n",
    "\n",
    "print(\"Get columns titles\")\n",
    "columnsTitles = reviews_rdd.take(1)[0]\n",
    "\n",
    "print(\"Get number of columns, based on columns titles length\")\n",
    "numOfColumns = len(columnsTitles)\n",
    "\n",
    "print(\"Filter out corrupted records, with invalid number of columns\")\n",
    "reviewsFiltered = reviews.filter(lambda p: len(p.split(\",\")) == numOfColumns)\n",
    "\n",
    "print(\"get reviews data frame\")\n",
    "reviews_df = reviews_rdd.toDF(columnsTitles)\n",
    "\n",
    "print(\"Number of filtered records: \" + repr(reviews_df.count()))\n",
    "for column in selectedColumnsDict:\n",
    "    print(\"Number of distinct \" + selectedColumnsDict[column] + 's: ' + repr(reviews_df.select(column).distinct().count()))\n",
    "\n",
    "print(\"\\n\")\n",
    "print(\"Task3.b\")\n",
    "print(\"-------\")\n",
    "print(\"\\n\")"
   ]
  },
  {
   "cell_type": "code",
   "execution_count": null,
   "metadata": {},
   "outputs": [],
   "source": []
  },
  {
   "cell_type": "code",
   "execution_count": null,
   "metadata": {},
   "outputs": [],
   "source": []
  }
 ],
 "metadata": {
  "kernelspec": {
   "display_name": "Python 3",
   "language": "python",
   "name": "python3"
  },
  "language_info": {
   "codemirror_mode": {
    "name": "ipython",
    "version": 3
   },
   "file_extension": ".py",
   "mimetype": "text/x-python",
   "name": "python",
   "nbconvert_exporter": "python",
   "pygments_lexer": "ipython3",
   "version": "3.5.2"
  }
 },
 "nbformat": 4,
 "nbformat_minor": 2
}
