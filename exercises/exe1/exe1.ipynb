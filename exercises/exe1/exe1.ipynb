{
 "cells": [
  {
   "cell_type": "code",
   "execution_count": 1,
   "metadata": {},
   "outputs": [],
   "source": [
    "from pyspark.context import SparkContext\n",
    "import numpy as np\n",
    "import matplotlib.pyplot as plt\n",
    "import matplotlib.patches as patches\n",
    "import matplotlib.path as path\n",
    "import pandas as pd\n",
    "import pyspark.sql.functions as F\n",
    "from pyspark.sql.functions import col\n",
    "from sklearn.cluster import KMeans\n",
    "%matplotlib inline"
   ]
  },
  {
   "cell_type": "code",
   "execution_count": 2,
   "metadata": {},
   "outputs": [],
   "source": [
    "def getAggregatedDfCount(df, columnName, columnAlias):\n",
    "    return df.groupBy(columnName).agg(F.size(F.collect_list(columnName))).select(col(columnName).alias(columnAlias), col(\"size(collect_list(\" + columnName + \"))\").alias(\"count\"))\n",
    "\n",
    "def analyzeContinuousValueColumn(df, columnName, columnAlias, recordName):\n",
    "    print(\"Analyze \" +  columnName + \" column\")\n",
    "    aggregated_df = getAggregatedDfCount(df, columnName, columnAlias)\n",
    "    pandas_df = aggregated_df.toPandas()\n",
    "    pandas_df[columnAlias].astype('str')\n",
    "    pandas_df[columnAlias] = pd.to_numeric(pandas_df[columnAlias], errors='coerce').fillna(0).astype(str)\n",
    "\n",
    "    print(\"\\ntop 10 \" + columnAlias + \"s with maximum number of \" + recordName + \"s:\")\n",
    "    aggregated_df.orderBy(\"count\", ascending=False).show(10)\n",
    "\n",
    "    print(\"\\n10 \" + columnAlias + \"s with minimum number of \" + recordName + \"s:\")\n",
    "    aggregated_df.orderBy(\"count\").show(10)\n",
    "\n",
    "    pandas_df.plot.hist(grid=True, bins=100, rwidth=1, color='#607c8e')\n",
    "    plt.title('Products reviews')\n",
    "    plt.xlabel(\"#\" + recordName + \"s\")\n",
    "    plt.ylabel(columnAlias + \"s\")\n",
    "    plt.title(\"Histogram of number of \" + recordName + \"s per \" + columnAlias)\n",
    "    plt.grid(axis='y', alpha=0.75)\n",
    "    \n",
    "def analyzeDescreteValueColumn(df, columnName, columnAlias, recordName):\n",
    "    print(\"Analyze \" + columnName + \" column\")\n",
    "    aggregated_df = getAggregatedDfCount(df, columnName, columnAlias)\n",
    "    pandas_df = aggregated_df.toPandas()\n",
    "    pandas_df.sort_values(by=[columnAlias], inplace=True)\n",
    "    pandas_df[columnAlias].astype('int')\n",
    "    pandas_df[columnAlias] = pd.to_numeric(pandas_df[columnAlias], errors='coerce').fillna(0).astype(int)\n",
    "    display(pandas_df.nlargest(5,columns=columnAlias))\n",
    "    pandas_df.plot(kind='bar',x=columnAlias,y='count')"
   ]
  },
  {
   "cell_type": "code",
   "execution_count": 3,
   "metadata": {},
   "outputs": [
    {
     "name": "stdout",
     "output_type": "stream",
     "text": [
      "------\n",
      "Task1:\n",
      "------\n",
      "Load the data\n",
      "Get columns titles\n",
      "Get number of columns, based on columns titles length\n",
      "Filter out corrupted records, with invalid number of columns\n",
      "Task1 - done\n"
     ]
    }
   ],
   "source": [
    "print(\"------\")\n",
    "print(\"Task1:\")\n",
    "print(\"------\")\n",
    "\n",
    "print(\"Load the data\")\n",
    "reviews = sc.textFile(\"Reviews.csv\")\n",
    "header = reviews.first() #extract header\n",
    "reviews = reviews.filter(lambda row: row != header)   #filter out header\n",
    "\n",
    "print(\"Get columns titles\")\n",
    "columnsTitles = header.split(\",\")\n",
    "\n",
    "print(\"Get number of columns, based on columns titles length\")\n",
    "numOfColumns = len(columnsTitles)\n",
    "\n",
    "print(\"Filter out corrupted records, with invalid number of columns\")\n",
    "reviews = reviews.filter(lambda p: len(p.split(\",\")) == numOfColumns)\n",
    "\n",
    "print(\"Task1 - done\")"
   ]
  },
  {
   "cell_type": "code",
   "execution_count": 4,
   "metadata": {},
   "outputs": [
    {
     "name": "stdout",
     "output_type": "stream",
     "text": [
      "------\n",
      "Task2:\n",
      "------\n",
      "Transform the data set into RDD pair, where the key is the unique id and the value is a Python list which contains the rest of the columns\n",
      "Task2 - done\n"
     ]
    }
   ],
   "source": [
    "print(\"------\")\n",
    "print(\"Task2:\")\n",
    "print(\"------\")\n",
    "print(\"Transform the data set into RDD pair, where the key is the unique id and the value is a Python list which contains the rest of the columns\")\n",
    "transformed_reviews = reviews.map(lambda x:(x.split(\",\")[0],x.split(\",\")[1:])) \n",
    "\n",
    "print(\"Task2 - done\")"
   ]
  },
  {
   "cell_type": "code",
   "execution_count": 5,
   "metadata": {},
   "outputs": [
    {
     "name": "stdout",
     "output_type": "stream",
     "text": [
      "------\n",
      "Task3:\n",
      "------\n",
      "Choose 5 important columns and for each column, execute tasks a-c\n",
      "\n",
      "Task3.a\n",
      "-------\n",
      "Count the distinct values in each column\n",
      "\n",
      "number of scores: 5\n",
      "number of users: 84966\n",
      "number of helpfulness denominators: 87\n",
      "number of helpfulness numerators: 77\n",
      "number of products: 40630\n"
     ]
    }
   ],
   "source": [
    "print(\"------\")\n",
    "print(\"Task3:\")\n",
    "print(\"------\")\n",
    "\n",
    "print(\"Choose 5 important columns and for each column, execute tasks a-c\\n\")\n",
    "\n",
    "# Define dinctionary of 5 selected columns and their matching index in reviews rdd\n",
    "selectedColumnsDict = {'ProductId':1, 'UserId':2, 'HelpfulnessNumerator':4, 'HelpfulnessDenominator':5, 'Score':6}\n",
    "\n",
    "# Define dinctionary of 5 selected columns and their matching aliases, for visualization purposes.\n",
    "selectedColumnsTitleDict = {'ProductId':'product', 'UserId':'user', 'HelpfulnessNumerator':'helpfulness numerator', 'HelpfulnessDenominator':'helpfulness denominator', 'Score':'score'}\n",
    "\n",
    "# Extract keys from selectedColumnsDict\n",
    "selectedColumns = list(selectedColumnsDict)\n",
    "\n",
    "print(\"Task3.a\")\n",
    "print(\"-------\")\n",
    "print(\"Count the distinct values in each column\\n\")\n",
    "columnCountRddList = []\n",
    "\n",
    "for column in selectedColumns:\n",
    "    # Extract rdd pair of current column and the suitable count in reviews rdd. \n",
    "    columnCountRdd = reviews.map(lambda x:(x.split(\",\")[selectedColumnsDict[column]],1)).reduceByKey(lambda x, y: x+y)   \n",
    "    \n",
    "    # Add current rdd pair to list of rdd pairs.\n",
    "    columnCountRddList.append(columnCountRdd)\n",
    "    \n",
    "    print(\"number of \" + selectedColumnsTitleDict[column] + \"s: \" + repr(columnCountRdd.count()))"
   ]
  },
  {
   "cell_type": "code",
   "execution_count": 6,
   "metadata": {},
   "outputs": [
    {
     "name": "stdout",
     "output_type": "stream",
     "text": [
      "\n",
      "Task3.b\n",
      "-------\n",
      "\n",
      "get reviews rdd\n",
      "get reviews data frame\n",
      "Analyze the slected columns:\n",
      "\n",
      "Analyze Score column\n"
     ]
    },
    {
     "data": {
      "text/html": [
       "<div>\n",
       "<style scoped>\n",
       "    .dataframe tbody tr th:only-of-type {\n",
       "        vertical-align: middle;\n",
       "    }\n",
       "\n",
       "    .dataframe tbody tr th {\n",
       "        vertical-align: top;\n",
       "    }\n",
       "\n",
       "    .dataframe thead th {\n",
       "        text-align: right;\n",
       "    }\n",
       "</style>\n",
       "<table border=\"1\" class=\"dataframe\">\n",
       "  <thead>\n",
       "    <tr style=\"text-align: right;\">\n",
       "      <th></th>\n",
       "      <th>score</th>\n",
       "      <th>count</th>\n",
       "    </tr>\n",
       "  </thead>\n",
       "  <tbody>\n",
       "    <tr>\n",
       "      <th>1</th>\n",
       "      <td>5</td>\n",
       "      <td>106054</td>\n",
       "    </tr>\n",
       "    <tr>\n",
       "      <th>3</th>\n",
       "      <td>4</td>\n",
       "      <td>16691</td>\n",
       "    </tr>\n",
       "    <tr>\n",
       "      <th>0</th>\n",
       "      <td>3</td>\n",
       "      <td>7309</td>\n",
       "    </tr>\n",
       "    <tr>\n",
       "      <th>4</th>\n",
       "      <td>2</td>\n",
       "      <td>5928</td>\n",
       "    </tr>\n",
       "    <tr>\n",
       "      <th>2</th>\n",
       "      <td>1</td>\n",
       "      <td>13406</td>\n",
       "    </tr>\n",
       "  </tbody>\n",
       "</table>\n",
       "</div>"
      ],
      "text/plain": [
       "   score   count\n",
       "1      5  106054\n",
       "3      4   16691\n",
       "0      3    7309\n",
       "4      2    5928\n",
       "2      1   13406"
      ]
     },
     "metadata": {},
     "output_type": "display_data"
    },
    {
     "data": {
      "image/png": "[encoded data removed]",
      "text/plain": [
       "<Figure size 432x288 with 1 Axes>"
      ]
     },
     "metadata": {
      "needs_background": "light"
     },
     "output_type": "display_data"
    }
   ],
   "source": [
    "print(\"\\nTask3.b\")\n",
    "print(\"-------\\n\")\n",
    "print(\"get reviews rdd\")\n",
    "reviews_rdd = reviews.map(lambda line: line.split(\",\"))\n",
    "\n",
    "print(\"get reviews data frame\")\n",
    "reviews_df = reviews_rdd.toDF(columnsTitles)\n",
    "\n",
    "print(\"Analyze the slected columns:\\n\")\n",
    "analyzeDescreteValueColumn(reviews_df, 'Score', 'score', 'review')"
   ]
  },
  {
   "cell_type": "code",
   "execution_count": 7,
   "metadata": {},
   "outputs": [
    {
     "name": "stdout",
     "output_type": "stream",
     "text": [
      "Analyze ProductId column\n",
      "\n",
      "top 10 products with maximum number of reviews:\n",
      "+----------+-----+\n",
      "|   product|count|\n",
      "+----------+-----+\n",
      "|B007JFMH8M|  401|\n",
      "|B0026RQTGE|  234|\n",
      "|B002QWP89S|  234|\n",
      "|B002QWP8H0|  234|\n",
      "|B002QWHJOU|  234|\n",
      "|B005K4Q4LK|  215|\n",
      "|B005K4Q34S|  215|\n",
      "|B005K4Q1YA|  215|\n",
      "|B005K4Q37A|  215|\n",
      "|B000UBD88A|  171|\n",
      "+----------+-----+\n",
      "only showing top 10 rows\n",
      "\n",
      "\n",
      "10 products with minimum number of reviews:\n",
      "+----------+-----+\n",
      "|   product|count|\n",
      "+----------+-----+\n",
      "|B000FRZBXE|    1|\n",
      "|B000NTZ3IW|    1|\n",
      "|B000HDMUKS|    1|\n",
      "|B0001UQWRY|    1|\n",
      "|B000ILMQLM|    1|\n",
      "|B0006MU99E|    1|\n",
      "|B000JSO2AM|    1|\n",
      "|B000E5C59U|    1|\n",
      "|B000KHVHG4|    1|\n",
      "|B000FA157W|    1|\n",
      "+----------+-----+\n",
      "only showing top 10 rows\n",
      "\n"
     ]
    },
    {
     "data": {
      "image/png": "[encoded data removed]",
      "text/plain": [
       "<Figure size 432x288 with 1 Axes>"
      ]
     },
     "metadata": {
      "needs_background": "light"
     },
     "output_type": "display_data"
    }
   ],
   "source": [
    "analyzeContinuousValueColumn(reviews_df, 'ProductId', 'product', 'review')"
   ]
  },
  {
   "cell_type": "code",
   "execution_count": 8,
   "metadata": {},
   "outputs": [
    {
     "name": "stdout",
     "output_type": "stream",
     "text": [
      "Analyze UserId column\n",
      "\n",
      "top 10 users with maximum number of reviews:\n",
      "+--------------+-----+\n",
      "|          user|count|\n",
      "+--------------+-----+\n",
      "| AZV26LP92E6WU|  161|\n",
      "|A281NPSIMI1C2R|   86|\n",
      "|A2A8KWCE8RKB9T|   82|\n",
      "|A2GEZJHBV92EVR|   70|\n",
      "|A31N6KB160O508|   53|\n",
      "|A35TIC6B8MVKWG|   49|\n",
      "|A27NTHPTRXB766|   46|\n",
      "|A3DOPYDOS49I3T|   45|\n",
      "| ALL9XFM0Q1N4E|   44|\n",
      "|A1KOCGNDLF2VUR|   44|\n",
      "+--------------+-----+\n",
      "only showing top 10 rows\n",
      "\n",
      "\n",
      "10 users with minimum number of reviews:\n",
      "+--------------+-----+\n",
      "|          user|count|\n",
      "+--------------+-----+\n",
      "|A13HKKCHHU1P5M|    1|\n",
      "|A18471UYYU4JGT|    1|\n",
      "|A14MSVK0CKT8Q1|    1|\n",
      "|A10BENY3CHUYHC|    1|\n",
      "|A14XAJMK8UK30T|    1|\n",
      "|A111Y9QLUBHKNW|    1|\n",
      "|A15QLSYISLDCZH|    1|\n",
      "|A128K9PYRN1BYW|    1|\n",
      "|A15VVGQ28FGHO1|    1|\n",
      "|A12I9B47D2EBSN|    1|\n",
      "+--------------+-----+\n",
      "only showing top 10 rows\n",
      "\n"
     ]
    },
    {
     "data": {
      "image/png": "[encoded data removed]",
      "text/plain": [
       "<Figure size 432x288 with 1 Axes>"
      ]
     },
     "metadata": {
      "needs_background": "light"
     },
     "output_type": "display_data"
    }
   ],
   "source": [
    "analyzeContinuousValueColumn(reviews_df, 'UserId', 'user', 'review')"
   ]
  },
  {
   "cell_type": "code",
   "execution_count": 9,
   "metadata": {},
   "outputs": [
    {
     "name": "stdout",
     "output_type": "stream",
     "text": [
      "Analyze HelpfulnessNumerator column\n",
      "\n",
      "top 10 helpfulnessNumerators with maximum number of reviews:\n",
      "+--------------------+-----+\n",
      "|helpfulnessNumerator|count|\n",
      "+--------------------+-----+\n",
      "|                   0|88594|\n",
      "|                   1|30261|\n",
      "|                   2|12690|\n",
      "|                   3| 6404|\n",
      "|                   4| 3487|\n",
      "|                   5| 2116|\n",
      "|                   6| 1445|\n",
      "|                   7|  953|\n",
      "|                   8|  661|\n",
      "|                   9|  547|\n",
      "+--------------------+-----+\n",
      "only showing top 10 rows\n",
      "\n",
      "\n",
      "10 helpfulnessNumerators with minimum number of reviews:\n",
      "+--------------------+-----+\n",
      "|helpfulnessNumerator|count|\n",
      "+--------------------+-----+\n",
      "|                  58|    1|\n",
      "|                  77|    1|\n",
      "|                 193|    1|\n",
      "|                 274|    1|\n",
      "|                 466|    1|\n",
      "|                  64|    1|\n",
      "|                  55|    1|\n",
      "|                  71|    1|\n",
      "|                 446|    1|\n",
      "|                  54|    1|\n",
      "+--------------------+-----+\n",
      "only showing top 10 rows\n",
      "\n"
     ]
    },
    {
     "data": {
      "image/png": "[encoded data removed]",
      "text/plain": [
       "<Figure size 432x288 with 1 Axes>"
      ]
     },
     "metadata": {
      "needs_background": "light"
     },
     "output_type": "display_data"
    }
   ],
   "source": [
    "analyzeContinuousValueColumn(reviews_df, 'HelpfulnessNumerator', 'helpfulnessNumerator', 'review')"
   ]
  },
  {
   "cell_type": "code",
   "execution_count": 10,
   "metadata": {},
   "outputs": [
    {
     "name": "stdout",
     "output_type": "stream",
     "text": [
      "Analyze HelpfulnessDenominator column\n",
      "\n",
      "top 10 helpfulnessDenominators with maximum number of reviews:\n",
      "+----------------------+-----+\n",
      "|helpfulnessDenominator|count|\n",
      "+----------------------+-----+\n",
      "|                     0|79295|\n",
      "|                     1|29392|\n",
      "|                     2|15217|\n",
      "|                     3| 7898|\n",
      "|                     4| 4941|\n",
      "|                     5| 2914|\n",
      "|                     6| 2281|\n",
      "|                     7| 1538|\n",
      "|                     8| 1011|\n",
      "|                     9|  862|\n",
      "+----------------------+-----+\n",
      "only showing top 10 rows\n",
      "\n",
      "\n",
      "10 helpfulnessDenominators with minimum number of reviews:\n",
      "+----------------------+-----+\n",
      "|helpfulnessDenominator|count|\n",
      "+----------------------+-----+\n",
      "|                    90|    1|\n",
      "|                    60|    1|\n",
      "|                   452|    1|\n",
      "|                    61|    1|\n",
      "|                   284|    1|\n",
      "|                   155|    1|\n",
      "|                   488|    1|\n",
      "|                    69|    1|\n",
      "|                    54|    1|\n",
      "|                    73|    1|\n",
      "+----------------------+-----+\n",
      "only showing top 10 rows\n",
      "\n"
     ]
    },
    {
     "data": {
      "image/png": "[encoded data removed]",
      "text/plain": [
       "<Figure size 432x288 with 1 Axes>"
      ]
     },
     "metadata": {
      "needs_background": "light"
     },
     "output_type": "display_data"
    }
   ],
   "source": [
    "analyzeContinuousValueColumn(reviews_df, 'HelpfulnessDenominator', 'helpfulnessDenominator', 'review')"
   ]
  },
  {
   "cell_type": "code",
   "execution_count": 11,
   "metadata": {},
   "outputs": [
    {
     "name": "stdout",
     "output_type": "stream",
     "text": [
      "\n",
      "Task3.c\n",
      "-------\n",
      "\n",
      "Explain the results of previous tasks:\n",
      "\n"
     ]
    },
    {
     "data": {
      "text/plain": [
       "\"\\n\\n----------------\\n1. Score column:\\n----------------\\nSince this column contains descrete values (1-5), It has been plotted on a bar plot.\\n\\nThere are 5 distinct scores\\n106054 reviews have been ranked as '5 stars'.\\n16691 reviews have been ranked as '4 stars'.\\n7309 reviews have been ranked as '3 stars'.\\n5928 reviews have been ranked as '2 stars'.\\n13406 reviews have been ranked as '1 stars'.\\n\\nNumber of filtered records is 149388\\nTotal number of reviews is 106054 + 16691 + 7309 + 5928 + 13406 = 149388\\nTherefore there are no reviews with  0 stars\\n\\n-------------------------------------------------------------------------------\\n2. The columns: ProductId, UserId, HelpfulnessNumerator, HelpfulnessDenominator\\n-------------------------------------------------------------------------------\\nSince these columns contains continueous values, It has been plotted on a histogram plot.\\n\\nfor each of these columns.\\nThe frequency has been calculated.\\n\\nSo we get for each product|user|helpfulness numerator|helpfulness denominator, the number of relevant reviews.\\n\\n    2.1 ProductId column:\\n    -------------------------\\n\\n    The most popular product is B007JFMH8M, with 401 reviews.\\n    The are many unpopular products, For example: B000EMK4JQ has only a single review.\\n\\n    From the products-reviews histogram we can conclude that most of the products have received less than 50 reviews.\\n\\n    \\n    2.2 UserId column:\\n    ----------------------\\n\\n    The most popular user is AZV26LP92E6WU, who posted with 161 reviews.\\n    Most of the users posted only a single review. For example: A13HKKCHHU1P5M has posted only a single review.\\n\\n    From the users-reviews histogram we can conclude that most of the users have posted only a single review.\\n    \\n    2.3 HelpfulnessNumerator column:\\n    --------------------------------\\n    88594 reviews, have not been indicated by the users as helpful.\\n    Just a few of the reviews have been indicated as helpful by many users. For example there is a review that has been indicated as helpful by 466 users.\\n\\n    From the users-reviews histogram we can conclude that most of the reviews were indicated as not helpful by the users.\\n\\n\\n    2.4 HelpfulnessDenominator column:\\n    ----------------------------------\\n    79295 reviews, have not been indicated by the users as helpful or not helpful.\\n    Just a few of the reviews have been indicated as helpful or not helpful by many users. For example there is a review that has been indicated by 488 users.\\n\\n    From the users-reviews histogram we can conclude that most of the reviews were not indicated by the users.\\n\\n\""
      ]
     },
     "execution_count": 11,
     "metadata": {},
     "output_type": "execute_result"
    }
   ],
   "source": [
    "print(\"\\nTask3.c\")\n",
    "print(\"-------\\n\")\n",
    "print(\"Explain the results of previous tasks:\\n\")\n",
    "'''\n",
    "\n",
    "----------------\n",
    "1. Score column:\n",
    "----------------\n",
    "Since this column contains descrete values (1-5), It has been plotted on a bar plot.\n",
    "\n",
    "There are 5 distinct scores\n",
    "106054 reviews have been ranked as '5 stars'.\n",
    "16691 reviews have been ranked as '4 stars'.\n",
    "7309 reviews have been ranked as '3 stars'.\n",
    "5928 reviews have been ranked as '2 stars'.\n",
    "13406 reviews have been ranked as '1 stars'.\n",
    "\n",
    "Number of filtered records is 149388\n",
    "Total number of reviews is 106054 + 16691 + 7309 + 5928 + 13406 = 149388\n",
    "Therefore there are no reviews with  0 stars\n",
    "\n",
    "-------------------------------------------------------------------------------\n",
    "2. The columns: ProductId, UserId, HelpfulnessNumerator, HelpfulnessDenominator\n",
    "-------------------------------------------------------------------------------\n",
    "Since these columns contains continueous values, It has been plotted on a histogram plot.\n",
    "\n",
    "for each of these columns.\n",
    "The frequency has been calculated.\n",
    "\n",
    "So we get for each product|user|helpfulness numerator|helpfulness denominator, the number of relevant reviews.\n",
    "\n",
    "    2.1 ProductId column:\n",
    "    -------------------------\n",
    "\n",
    "    The most popular product is B007JFMH8M, with 401 reviews.\n",
    "    The are many unpopular products, For example: B000EMK4JQ has only a single review.\n",
    "\n",
    "    From the products-reviews histogram we can conclude that most of the products have received less than 50 reviews.\n",
    "\n",
    "    \n",
    "    2.2 UserId column:\n",
    "    ----------------------\n",
    "\n",
    "    The most popular user is AZV26LP92E6WU, who posted with 161 reviews.\n",
    "    Most of the users posted only a single review. For example: A13HKKCHHU1P5M has posted only a single review.\n",
    "\n",
    "    From the users-reviews histogram we can conclude that most of the users have posted only a single review.\n",
    "    \n",
    "    2.3 HelpfulnessNumerator column:\n",
    "    --------------------------------\n",
    "    88594 reviews, have not been indicated by the users as helpful.\n",
    "    Just a few of the reviews have been indicated as helpful by many users. For example there is a review that has been indicated as helpful by 466 users.\n",
    "\n",
    "    From the users-reviews histogram we can conclude that most of the reviews were indicated as not helpful by the users.\n",
    "\n",
    "\n",
    "    2.4 HelpfulnessDenominator column:\n",
    "    ----------------------------------\n",
    "    79295 reviews, have not been indicated by the users as helpful or not helpful.\n",
    "    Just a few of the reviews have been indicated as helpful or not helpful by many users. For example there is a review that has been indicated by 488 users.\n",
    "\n",
    "    From the users-reviews histogram we can conclude that most of the reviews were not indicated by the users.\n",
    "\n",
    "'''"
   ]
  },
  {
   "cell_type": "code",
   "execution_count": 12,
   "metadata": {},
   "outputs": [
    {
     "name": "stdout",
     "output_type": "stream",
     "text": [
      "\n",
      "Task4.a\n",
      "-------\n",
      "\n",
      "Fill in bad or missing values:\n",
      "\n",
      "Null values were not detected\n"
     ]
    }
   ],
   "source": [
    "print(\"\\nTask4.a\")\n",
    "print(\"-------\\n\")\n",
    "print(\"Fill in bad or missing values:\\n\")\n",
    "\n",
    "numOfRecords = reviews_df.count()\n",
    "pandas_df = reviews_df.toPandas()\n",
    "isNullValuesFound=0\n",
    "for i in range(0,numOfColumns):\n",
    "    c = np.logical_not(pandas_df.isnull()).sum()[i]\n",
    "    if c != numOfRecords:\n",
    "        isNullValuesFound=1\n",
    "\n",
    "if(isNullValuesFound != 0):\n",
    "    print(\"Null values have been detected. Filling the gaps...\")\n",
    "    potentialColumnsForFillinValues = ['HelpfulnessNumerator', 'HelpfulnessDenominator', 'Score']\n",
    "    for column in potentialColumnsForFillinValues:\n",
    "        maxValue = columnCountRddList[selectedColumns.index(column)].max(lambda x: x[1])[0]\n",
    "        reviews_df.withColumn(column,F.when(F.isnull(reviews_df[column]),\n",
    "                                            repr(maxValue)).otherwise(reviews_df[column]))\n",
    "    reviews_df.show()\n",
    "    reviews_rdd = reviews_df.rdd()\n",
    "else:\n",
    "    print('Null values were not detected')"
   ]
  },
  {
   "cell_type": "code",
   "execution_count": 13,
   "metadata": {},
   "outputs": [
    {
     "name": "stdout",
     "output_type": "stream",
     "text": [
      "\n",
      "Task4.a\n",
      "-------\n",
      "\n",
      "Explain the strategy for Filling in bad or missing values:\n",
      "\n"
     ]
    },
    {
     "data": {
      "text/plain": [
       "\"\\nThe Filling in bad or missing values strategy:\\nThe minimal impact on a row, will be achived by filling the most common value of a given rdd pair.\\n\\nFor example:\\nin case of the score column, this is the relevant rdd pair [score -> count]:\\n5 \\t106054\\n4 \\t16691\\n3 \\t7309\\n2 \\t5928\\n1 \\t13406\\n\\nWe can observe, that the most common value (maximum value) is score 5 (with 106054 records).\\nTherefore if a score is missing in some record, we need to replace it with the value '5'\\n\\nThis strategy will be applied to all off the selected columns.\\n\""
      ]
     },
     "execution_count": 13,
     "metadata": {},
     "output_type": "execute_result"
    }
   ],
   "source": [
    "print(\"\\nTask4.b\")\n",
    "print(\"-------\\n\")\n",
    "print(\"Explain the strategy for Filling in bad or missing values:\\n\")\n",
    "'''\n",
    "The Filling in bad or missing values strategy:\n",
    "The minimal impact on a row, will be achived by filling the most common value of a given rdd pair.\n",
    "\n",
    "For example:\n",
    "in case of the score column, this is the relevant rdd pair [score -> count]:\n",
    "5 \t106054\n",
    "4 \t16691\n",
    "3 \t7309\n",
    "2 \t5928\n",
    "1 \t13406\n",
    "\n",
    "We can observe, that the most common value (maximum value) is score 5 (with 106054 records).\n",
    "Therefore if a score is missing in some record, we need to replace it with the value '5'\n",
    "\n",
    "This strategy will be applied to all off the selected columns.\n",
    "'''"
   ]
  },
  {
   "cell_type": "code",
   "execution_count": 101,
   "metadata": {},
   "outputs": [
    {
     "name": "stdout",
     "output_type": "stream",
     "text": [
      "\n",
      "Task5\n",
      "-------\n",
      "\n",
      "Transform 2 columns which contains categorical features to numerical values:\n",
      "\n",
      "Since there are no categorical columns, we will consider the columns: HelpfulnessNumerator, HelpfulnessDenominator as categorical, by partition these columns to different ranges.\n"
     ]
    },
    {
     "data": {
      "text/plain": [
       "[('1',\n",
       "  'B001E4KFG0',\n",
       "  'A3SGXH7AUHU8GW',\n",
       "  'delmartian',\n",
       "  1,\n",
       "  1,\n",
       "  5,\n",
       "  '1303862400',\n",
       "  'Good Quality Dog Food',\n",
       "  'I have bought several of the Vitality canned dog food products and have found them all to be of good quality. The product looks more like a stew than a processed meat and it smells better. My Labrador is finicky and she appreciates this product better than  most.'),\n",
       " ('2',\n",
       "  'B00813GRG4',\n",
       "  'A1D87F6ZCVE5NK',\n",
       "  'dll pa',\n",
       "  0,\n",
       "  0,\n",
       "  1,\n",
       "  '1346976000',\n",
       "  'Not as Advertised',\n",
       "  '\"Product arrived labeled as Jumbo Salted Peanuts...the peanuts were actually small sized unsalted. Not sure if this was an error or if the vendor intended to represent the product as \"\"Jumbo\"\".\"'),\n",
       " ('4',\n",
       "  'B000UA0QIQ',\n",
       "  'A395BORC6FGVXV',\n",
       "  'Karl',\n",
       "  2,\n",
       "  2,\n",
       "  2,\n",
       "  '1307923200',\n",
       "  'Cough Medicine',\n",
       "  'If you are looking for the secret ingredient in Robitussin I believe I have found it.  I got this in addition to the Root Beer Extract I ordered (which was good) and made some cherry soda.  The flavor is very medicinal.')]"
      ]
     },
     "execution_count": 101,
     "metadata": {},
     "output_type": "execute_result"
    }
   ],
   "source": [
    "print(\"\\nTask5\")\n",
    "print(\"-------\\n\")\n",
    "print(\"Transform 2 columns which contains categorical features to numerical values:\\n\")\n",
    "print(\"Since there are no categorical columns, we will consider the columns: HelpfulnessNumerator, HelpfulnessDenominator as categorical, by partition these columns to different ranges.\")\n",
    "\n",
    "# Most of the entries in the data are less than 2\n",
    "# Therefore 0 will be mapped to 0, and 1 will be mapped to 1\n",
    "# The rest of the values will be mapped according to their suitable length + 1\n",
    "def getCategory(x):\n",
    "    if x < 2:\n",
    "        return x\n",
    "    return len(str(x)) + 1\n",
    "\n",
    "# Create the desired mapping between a category and the corespponding value.\n",
    "helpfulnessDenominatorRddPair = columnCountRddList[selectedColumns.index('HelpfulnessDenominator')].map(lambda x: (int(x[0]), x[1])).sortBy(lambda x: x[1], ascending= False).map(lambda x: (x[0],getCategory(x[0])))\n",
    "helpfulnessDenominatorCountMap = helpfulnessDenominatorRddPair.collectAsMap()\n",
    "helpfulnessNumeratorRddPair = columnCountRddList[selectedColumns.index('HelpfulnessNumerator')].map(lambda x: (int(x[0]), x[1])).sortBy(lambda x: x[1], ascending= False).map(lambda x: (x[0],getCategory(x[0])))\n",
    "helpfulnessNumeratorCountMap = helpfulnessNumeratorRddPair.collectAsMap()\n",
    "\n",
    "# Map rdd entries with the transformed categories of the columns: helpfulnessDenominator, helpfulnessNumerator\n",
    "def mapWithCategories(x):\n",
    "    return (x[0], x[1], x[2], x[3], helpfulnessDenominatorCountMap[int(x[4])], helpfulnessNumeratorCountMap[int(x[5])], int(x[6]), x[7], x[8], x[9])\n",
    "\n",
    "# Perfoem rdd mapping of 2 categories for the columns: helpfulnessDenominator, helpfulnessNumerator\n",
    "reviews_rdd = reviews_rdd.map(lambda x: mapWithCategories(x))\n",
    "\n",
    "# Show top 3 rows after perdormin the transformations\n",
    "reviews_rdd.take(3)\n",
    "\n"
   ]
  },
  {
   "cell_type": "code",
   "execution_count": null,
   "metadata": {},
   "outputs": [],
   "source": []
  }
 ],
 "metadata": {
  "kernelspec": {
   "display_name": "Python 3",
   "language": "python",
   "name": "python3"
  },
  "language_info": {
   "codemirror_mode": {
    "name": "ipython",
    "version": 3
   },
   "file_extension": ".py",
   "mimetype": "text/x-python",
   "name": "python",
   "nbconvert_exporter": "python",
   "pygments_lexer": "ipython3",
   "version": "3.5.2"
  }
 },
 "nbformat": 4,
 "nbformat_minor": 2
}
