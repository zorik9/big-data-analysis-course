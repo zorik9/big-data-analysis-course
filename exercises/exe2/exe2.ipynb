{
 "cells": [
  {
   "cell_type": "code",
   "execution_count": 1,
   "metadata": {},
   "outputs": [],
   "source": [
    "from pyspark.context import SparkContext\n",
    "from pyspark.sql.functions import concat_ws, collect_list, countDistinct, count, col, expr, size, asc, broadcast\n",
    "from pyspark.ml.feature import StringIndexer"
   ]
  },
  {
   "cell_type": "code",
   "execution_count": 2,
   "metadata": {},
   "outputs": [
    {
     "name": "stdout",
     "output_type": "stream",
     "text": [
      "Load the data\n"
     ]
    }
   ],
   "source": [
    "print(\"Load the data\")\n",
    "users_queries_search_main_df = spark.read.option(\"header\", \"true\") \\\n",
    "    .option(\"delimiter\", \"\\t\") \\\n",
    "    .csv(\"user-ct-test-collection-01.txt\")"
   ]
  },
  {
   "cell_type": "code",
   "execution_count": 3,
   "metadata": {},
   "outputs": [
    {
     "name": "stdout",
     "output_type": "stream",
     "text": [
      "Define global variables\n"
     ]
    }
   ],
   "source": [
    "print(\"Define global variables\")\n",
    "n = 2 # num of rows to display\n",
    "min_num_of_queries = 2\n",
    "min_num_of_queries_pair = 1\n",
    "empty_queries = ['-', 'null']\n",
    "confidences = [0.6, 0.8, 0.9, 1]\n",
    "top_num_of_results = 10"
   ]
  },
  {
   "cell_type": "code",
   "execution_count": 4,
   "metadata": {},
   "outputs": [
    {
     "name": "stdout",
     "output_type": "stream",
     "text": [
      "+------+---------------------------+-------------------+--------+--------+\n",
      "|AnonID|Query                      |QueryTime          |ItemRank|ClickURL|\n",
      "+------+---------------------------+-------------------+--------+--------+\n",
      "|142   |rentdirect.com             |2006-03-01 07:17:12|null    |null    |\n",
      "|142   |www.prescriptionfortime.com|2006-03-12 12:31:06|null    |null    |\n",
      "+------+---------------------------+-------------------+--------+--------+\n",
      "only showing top 2 rows\n",
      "\n",
      "total number of rows, before filtering is: 3558411\n"
     ]
    }
   ],
   "source": [
    "users_queries_search_main_df.show(n, truncate=False)\n",
    "total_num_of_rows = users_queries_search_main_df.count()\n",
    "print(\"total number of rows, before filtering is: \" + repr(total_num_of_rows))"
   ]
  },
  {
   "cell_type": "code",
   "execution_count": 5,
   "metadata": {},
   "outputs": [],
   "source": [
    "users_queries_search_filtered = users_queries_search_main_df.select('AnonID', 'Query').drop_duplicates(subset=['AnonID', 'Query']).filter(col('Query').isin(empty_queries) == False)"
   ]
  },
  {
   "cell_type": "code",
   "execution_count": 6,
   "metadata": {},
   "outputs": [
    {
     "name": "stdout",
     "output_type": "stream",
     "text": [
      "+------+----------------------------+\n",
      "|AnonID|Query                       |\n",
      "+------+----------------------------+\n",
      "|1337  |michael keaton date of birth|\n",
      "|2334  |disneychanne.com            |\n",
      "+------+----------------------------+\n",
      "only showing top 2 rows\n",
      "\n"
     ]
    }
   ],
   "source": [
    "users_queries_search_filtered.show(n, truncate=False)"
   ]
  },
  {
   "cell_type": "code",
   "execution_count": 7,
   "metadata": {},
   "outputs": [
    {
     "name": "stdout",
     "output_type": "stream",
     "text": [
      "number of rows, after filtering is: 1659839\n"
     ]
    }
   ],
   "source": [
    "num_of_rows = users_queries_search_filtered.count()\n",
    "print(\"number of rows, after filtering is: \" + repr(num_of_rows))"
   ]
  },
  {
   "cell_type": "code",
   "execution_count": 8,
   "metadata": {},
   "outputs": [],
   "source": [
    "queries_count_df = users_queries_search_filtered.groupBy('Query').agg(count(\"*\").alias(\"count\")).filter(\"count > \" + repr(min_num_of_queries))"
   ]
  },
  {
   "cell_type": "code",
   "execution_count": null,
   "metadata": {},
   "outputs": [
    {
     "name": "stdout",
     "output_type": "stream",
     "text": [
      "+------------------+-----+\n",
      "|Query             |count|\n",
      "+------------------+-----+\n",
      "|game house        |3    |\n",
      "|www.capitalone.com|112  |\n",
      "+------------------+-----+\n",
      "only showing top 2 rows\n",
      "\n"
     ]
    }
   ],
   "source": [
    "queries_count_df.show(n, truncate=False)"
   ]
  },
  {
   "cell_type": "code",
   "execution_count": null,
   "metadata": {},
   "outputs": [],
   "source": [
    "queries_dict_df = queries_count_df.rdd.zipWithIndex().map(lambda line: (line[0][0], line[1])).toDF().select(col('_1').alias('Query'), col('_2').alias('index'))"
   ]
  },
  {
   "cell_type": "code",
   "execution_count": null,
   "metadata": {},
   "outputs": [],
   "source": [
    "queries_dict_df.show(n, truncate=False)"
   ]
  },
  {
   "cell_type": "code",
   "execution_count": null,
   "metadata": {},
   "outputs": [],
   "source": [
    "num_of_queries = queries_dict_df.count()\n",
    "print(\"number of queries, after filtering is: \" + repr(num_of_queries))"
   ]
  },
  {
   "cell_type": "code",
   "execution_count": null,
   "metadata": {},
   "outputs": [],
   "source": [
    "users_queries_indexed_df = users_queries_search_filtered.join(queries_dict_df, queries_dict_df.Query == users_queries_search_filtered.Query).select('AnonID', 'index')\n",
    "users_queries_indexed_df = users_queries_indexed_df.orderBy(\"AnonID\", ascending=True)\n",
    "users_queries_indexed_df.show(20, truncate=False)"
   ]
  },
  {
   "cell_type": "code",
   "execution_count": null,
   "metadata": {},
   "outputs": [],
   "source": [
    "users_queries_indexed_df2 = users_queries_indexed_df.select(col('AnonID').alias('AnonID2'), col('index').alias('index2'))"
   ]
  },
  {
   "cell_type": "code",
   "execution_count": null,
   "metadata": {},
   "outputs": [],
   "source": [
    "users_queries_self_joined_df = users_queries_indexed_df.join(users_queries_indexed_df2, on=[col('AnonID') == col('AnonID2'), col('index') > col('index2')], how='cross')"
   ]
  },
  {
   "cell_type": "code",
   "execution_count": null,
   "metadata": {},
   "outputs": [],
   "source": [
    "users_queries_self_joined_df = users_queries_self_joined_df.select(col('AnonID').alias('user'), col('index').alias('query1'), col('index2').alias('query2'))\n",
    "users_queries_self_joined_df.show(20, truncate=False)"
   ]
  },
  {
   "cell_type": "code",
   "execution_count": null,
   "metadata": {},
   "outputs": [],
   "source": [
    "num_of_pairwise_queries = users_queries_self_joined_df.count()\n",
    "print(\"number of pairwise queries is: \" + repr(num_of_pairwise_queries))"
   ]
  },
  {
   "cell_type": "code",
   "execution_count": null,
   "metadata": {},
   "outputs": [],
   "source": [
    "queries_pair_count_df = users_queries_self_joined_df.groupBy('query1', 'query2').agg(count(\"*\").alias(\"count_2_queries\")).filter(\"count_2_queries > \" + repr(min_num_of_queries_pair))"
   ]
  },
  {
   "cell_type": "code",
   "execution_count": null,
   "metadata": {},
   "outputs": [],
   "source": [
    "queries_pair_count_df.show(20, truncate=False)"
   ]
  },
  {
   "cell_type": "code",
   "execution_count": null,
   "metadata": {},
   "outputs": [],
   "source": [
    "queries_count_indexed_df =  queries_count_df.join(queries_dict_df, queries_dict_df.Query == queries_count_df.Query, how='full').select('index', 'count')"
   ]
  },
  {
   "cell_type": "code",
   "execution_count": null,
   "metadata": {},
   "outputs": [],
   "source": [
    "queries_count_indexed_df.show(20, truncate=False)"
   ]
  },
  {
   "cell_type": "code",
   "execution_count": null,
   "metadata": {},
   "outputs": [],
   "source": [
    "#result_df = queries_pair_count_df.join(queries_count_indexed_df, on=[queries_pair_count_df['query1'].isNotNull, queries_pair_count_df['query2'].isNotNull, col('query1') == col('index')], how='full')\n",
    "#result_df = queries_pair_count_df.join(queries_count_indexed_df, on=[col('query1') == col('index')], how='full')\n",
    "\n",
    "#result_df = queries_pair_count_df.join(queries_count_indexed_df, on=[col('query1') == col('index')], how='full').filter(\"col('query1').isNotNull and col('query2').isNotNull\")\n",
    "result_df = queries_pair_count_df.join(queries_count_indexed_df, on=[col('query1') == col('index')], how='inner')"
   ]
  },
  {
   "cell_type": "code",
   "execution_count": null,
   "metadata": {},
   "outputs": [],
   "source": [
    "result_df.show(20, truncate=False)"
   ]
  },
  {
   "cell_type": "code",
   "execution_count": null,
   "metadata": {},
   "outputs": [],
   "source": [
    "num_of_results = result_df.count()\n",
    "print(\"number of results is: \" + repr(num_of_results))"
   ]
  },
  {
   "cell_type": "code",
   "execution_count": null,
   "metadata": {},
   "outputs": [],
   "source": [
    "final_result_df = result_df.filter('count_2_queries / count > 0.6')"
   ]
  },
  {
   "cell_type": "code",
   "execution_count": null,
   "metadata": {},
   "outputs": [],
   "source": [
    "final_result_df.show(20, truncate=False)"
   ]
  },
  {
   "cell_type": "code",
   "execution_count": null,
   "metadata": {},
   "outputs": [],
   "source": [
    "results_df = []\n",
    "results_count = []\n",
    "for i in range(len(confidences) - 1):\n",
    "    conf = confidences[i]\n",
    "    next_conf = confidences[i + 1]\n",
    "    current_result_df = result_df.filter('count_2_queries / count > ' + repr(conf) + ' and count_2_queries / count <= ' + repr(next_conf))\n",
    "    current_result_df.orderBy(['count_2_queries', 'count'], ascending=False)\n",
    "    results_df.append(current_result_df)\n",
    "    confidence_count = current_result_df.count()\n",
    "    results_count.append(confidence_count)\n",
    "    print(current_result_df.head(20))\n",
    "    #print(current_result_df.takeOrdered(top_num_of_results, lambda line: -line[2] / line[3]))\n",
    "    print(\"\\nNumber of rules with confidence between \" + repr(conf) + \" and \" + repr(next_conf) + \" is: \" + repr(confidence_count) + \"\\n\\n\")"
   ]
  },
  {
   "cell_type": "code",
   "execution_count": null,
   "metadata": {},
   "outputs": [],
   "source": [
    "joined_results_df = []\n",
    "results_dict_list = []\n",
    "for i in range(len(confidences) - 1):\n",
    "    current_result_df = results_df[i]\n",
    "    current_result_joined1_df = queries_dict_df.join(broadcast(current_result_df),queries_dict_df.index == current_result_df.query1)\n",
    "    current_result_joined2_df = queries_dict_df.join(broadcast(current_result_df),queries_dict_df.index == current_result_df.query2)\n",
    "    current_result_joined_df = current_result_joined1_df.join(current_result_joined2_df, (current_result_joined1_df.query1 == current_result_joined2_df.query1) & (current_result_joined1_df.query2 == current_result_joined2_df.query2), how='inner')\n",
    "    joined_results_df.append(current_result_joined_df)\n",
    "    results_dict_list.append(current_result_joined_df.rdd.map(lambda line: (line[0], line[7])).filter(lambda line: line[0] != line[1]).collectAsMap())"
   ]
  },
  {
   "cell_type": "code",
   "execution_count": null,
   "metadata": {},
   "outputs": [],
   "source": [
    "for i in range(len(confidences) - 1):\n",
    "    conf = confidences[i]\n",
    "    next_conf = confidences[i + 1]\n",
    "    str_rule = 'rule'\n",
    "    if(results_count[i] != 1):\n",
    "        str_rule += 's'\n",
    "    print(\"\\n\" + repr(results_count[i]) + \" \" + str_rule + \" with confidence between \" + repr(conf) + \" and \" + repr(next_conf) + \":\\n\\n\")\n",
    "    for k, v in results_dict_list[i].items():\n",
    "        print(k + \" ==> \" + v + \"\\n\")"
   ]
  }
 ],
 "metadata": {
  "kernelspec": {
   "display_name": "Python 3",
   "language": "python",
   "name": "python3"
  },
  "language_info": {
   "codemirror_mode": {
    "name": "ipython",
    "version": 3
   },
   "file_extension": ".py",
   "mimetype": "text/x-python",
   "name": "python",
   "nbconvert_exporter": "python",
   "pygments_lexer": "ipython3",
   "version": "3.5.2"
  }
 },
 "nbformat": 4,
 "nbformat_minor": 2
}
